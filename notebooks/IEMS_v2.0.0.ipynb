{
  "nbformat": 4,
  "nbformat_minor": 0,
  "metadata": {
    "colab": {
      "provenance": [],
      "toc_visible": true
    },
    "kernelspec": {
      "name": "python3",
      "display_name": "Python 3"
    }
  },
  "cells": [
    {
      "cell_type": "markdown",
      "metadata": {
        "id": "lP6JLo1tGNBg"
      },
      "source": [
        "# Artificial Neural Network projet stage \n",
        "---\n",
        " Projet Stage *BEY SOLAR* \n",
        "\n"
      ]
    },
    {
      "cell_type": "markdown",
      "metadata": {
        "id": "gWZyYmS_UE_L"
      },
      "source": [
        "### Importing the libraries"
      ]
    },
    {
      "cell_type": "code",
      "metadata": {
        "id": "MxkJoQBkUIHC"
      },
      "source": [
        "import numpy as np\n",
        "import pandas as pd\n",
        "import tensorflow as tf\n",
        "import random as python_random"
      ],
      "execution_count": null,
      "outputs": []
    },
    {
      "cell_type": "code",
      "metadata": {
        "id": "ZaTwK7ojXr2F"
      },
      "source": [
        "tf.__version__\n",
        "np.random.seed(123)\n",
        "python_random.seed(123)\n",
        "tf.random.set_seed(123)"
      ],
      "execution_count": null,
      "outputs": []
    },
    {
      "cell_type": "markdown",
      "metadata": {
        "id": "1E0Q3aoKUCRX"
      },
      "source": [
        "## Part 1 - Data Preprocessing"
      ]
    },
    {
      "cell_type": "markdown",
      "metadata": {
        "id": "cKWAkFVGUU0Z"
      },
      "source": [
        "### Importing the dataset"
      ]
    },
    {
      "cell_type": "code",
      "metadata": {
        "id": "MXUkhkMfU4wq"
      },
      "source": [
        "dataset = pd.read_csv('L_Refreg_advanced.csv')\n",
        "X = dataset.iloc[:, 1:-1].values\n",
        "y = dataset.iloc[:, -1].values"
      ],
      "execution_count": null,
      "outputs": []
    },
    {
      "cell_type": "code",
      "metadata": {
        "id": "VYP9cQTWbzuI",
        "colab": {
          "base_uri": "https://localhost:8080/",
          "height": 1000
        },
        "outputId": "d8dece94-cfa4-4724-a454-c8a04fe57ae5"
      },
      "source": [
        "print(X)"
      ],
      "execution_count": null,
      "outputs": [
        {
          "output_type": "stream",
          "text": [
            "[[100 15 'oui' 20 10]\n",
            " [95 10 'non' 17 7]\n",
            " [80 11 'oui' 13 6]\n",
            " [75 9 'oui' 15 5]\n",
            " [59 4 'oui' 19 5]\n",
            " [88 12 'non' 17 6]\n",
            " [33 3 'oui' 12 4]\n",
            " [46 5 'oui' 16 5]\n",
            " [45 5 'non' 17 5]\n",
            " [102 19 'non' 21 10]\n",
            " [83 13 'non' 23 9]\n",
            " [71 17 'oui' 18 8]\n",
            " [26 4 'non' 15 3]\n",
            " [49 5 'non' 14 4]\n",
            " [78 8 'non' 19 7]\n",
            " [82 9 'non' 18 9]\n",
            " [72 11 'non' 17 6]\n",
            " [69 7 'oui' 16 5]\n",
            " [37 5 'non' 12 4]\n",
            " [96 10 'non' 22 9]\n",
            " [115 18 'non' 18 10]\n",
            " [75 7 'oui' 16 9]\n",
            " [33 4 'oui' 15 8]\n",
            " [42 6 'oui' 16 9]\n",
            " [56 5 'oui' 16 10]\n",
            " [133 9 'non' 19 7]\n",
            " [15 1 'oui' 10 9]\n",
            " [140 10 'oui' 16 8]\n",
            " [56 6 'oui' 15 7]\n",
            " [46 5 'oui' 16 10]\n",
            " [35 2 'oui' 14 8]\n",
            " [46 4 'oui' 11 7]\n",
            " [49 5 'oui' 13 9]\n",
            " [126 15 'non' 22 7]\n",
            " [162 16 'non' 15 10]\n",
            " [56 3 'oui' 16 8]\n",
            " [26 1 'oui' 15 6]\n",
            " [46 5 'oui' 19 4]\n",
            " [17 2 'oui' 19 9]\n",
            " [52 6 'oui' 17 6]\n",
            " [16 2 'oui' 15 5]\n",
            " [14 2 'oui' 16 4]\n",
            " [62 6 'oui' 11 6]\n",
            " [44 5 'oui' 13 9]\n",
            " [65 6 'oui' 15 10]\n",
            " [23 2 'oui' 11 7]\n",
            " [46 4 'oui' 12 7]\n",
            " [120 18 'non' 22 8]\n",
            " [101 9 'oui' 16 9]\n",
            " [140 11 'oui' 14 8]\n",
            " [56 5 'oui' 16 7]\n",
            " [49 4 'non' 14 10]\n",
            " [89 8 'oui' 19 4]\n",
            " [89 10 'non' 17 5]\n",
            " [19 2 'oui' 16 6]\n",
            " [89 5 'oui' 18 9]\n",
            " [89 6 'oui' 17 8]\n",
            " [48 4 'non' 18 7]\n",
            " [156 16 'oui' 20 4]\n",
            " [146 14 'oui' 18 6]\n",
            " [198 19 'oui' 19 9]\n",
            " [146 12 'non' 23 8]\n",
            " [46 5 'oui' 17 4]\n",
            " [59 8 'non' 16 10]\n",
            " [63 6 'oui' 15 9]\n",
            " [47 4 'oui' 14 5]\n",
            " [49 5 'oui' 16 7]\n",
            " [89 6 'oui' 13 6]\n",
            " [55 2 'oui' 15 9]\n",
            " [54 4 'oui' 16 8]\n",
            " [59 5 'oui' 18 4]\n",
            " [160 13 'oui' 17 5]\n",
            " [46 6 'oui' 19 9]\n",
            " [28 3 'oui' 18 10]\n",
            " [99 9 'oui' 19 9]\n",
            " [89 9 'oui' 19 8]\n",
            " [14 3 'oui' 15 7]\n",
            " [16 4 'non' 17 10]\n",
            " [89 4 'oui' 15 9]\n",
            " [46 5 'non' 19 7]\n",
            " [46 6 'oui' 16 9]\n",
            " [15 4 'non' 16 10]\n",
            " [46 4 'non' 14 8]\n",
            " [45 6 'non' 17 8]\n",
            " [46 4 'non' 15 9]\n",
            " [48 3 'non' 14 9]\n",
            " [64 5 'non' 16 10]\n",
            " [34 5 'non' 19 7]\n",
            " [61 6 'oui' 18 9]\n",
            " [89 6 'oui' 17 8]\n",
            " [46 4 'oui' 16 10]\n",
            " [13 3 'oui' 15 7]\n",
            " [64 4 'oui' 17 9]\n",
            " [91 5 'oui' 18 8]\n",
            " [54 5 'oui' 21 6]\n",
            " [54 6 'oui' 19 5]\n",
            " [61 6 'oui' 18 10]\n",
            " [94 9 'oui' 16 9]\n",
            " [134 8 'non' 17 9]\n",
            " [49 4 'oui' 16 4]\n",
            " [130 3 'non' 17 5]\n",
            " [65 6 'oui' 18 6]\n",
            " [46 4 'non' 15 4]\n",
            " [84 8 'non' 14 3]\n",
            " [65 6 'oui' 16 6]\n",
            " [89 4 'oui' 18 4]\n",
            " [46 5 'oui' 18 9]\n",
            " [79 6 'oui' 17 6]\n",
            " [46 4 'oui' 19 8]\n",
            " [79 5 'oui' 17 4]\n",
            " [58 4 'oui' 19 6]\n",
            " [46 5 'oui' 20 2]\n",
            " [15 2 'non' 18 4]\n",
            " [92 11 'oui' 17 10]\n",
            " [19 2 'oui' 19 6]\n",
            " [46 3 'oui' 15 5]\n",
            " [89 4 'oui' 16 4]\n",
            " [46 4 'oui' 17 2]\n",
            " [153 18 'oui' 23 5]\n",
            " [68 5 'oui' 18 6]\n",
            " [79 4 'non' 17 9]\n",
            " [63 6 'oui' 16 4]\n",
            " [12 3 'non' 17 10]\n",
            " [46 4 'oui' 17 9]\n",
            " [76 5 'oui' 12 5]\n",
            " [98 8 'oui' 17 9]\n",
            " [63 5 'non' 19 4]\n",
            " [65 6 'oui' 16 6]\n",
            " [32 6 'non' 14 3]\n",
            " [25 4 'oui' 15 9]\n",
            " [69 2 'oui' 17 8]\n",
            " [46 6 'oui' 21 7]\n",
            " [25 5 'oui' 22 6]\n",
            " [53 4 'oui' 19 4]\n",
            " [12 2 'oui' 18 2]\n",
            " [31 6 'non' 17 10]\n",
            " [25 5 'non' 17 6]\n",
            " [98 18 'oui' 19 9]\n",
            " [78 6 'oui' 17 8]\n",
            " [15 5 'oui' 16 7]\n",
            " [36 4 'oui' 17 6]\n",
            " [20 6 'oui' 19 8]\n",
            " [45 3 'non' 17 4]\n",
            " [98 9 'oui' 18 7]\n",
            " [65 6 'non' 19 9]\n",
            " [46 4 'oui' 17 10]\n",
            " [25 6 'non' 19 5]\n",
            " [39 3 'non' 16 6]\n",
            " [89 16 'oui' 15 9]\n",
            " [78 5 'oui' 17 3]\n",
            " [15 4 'oui' 19 7]\n",
            " [35 6 'oui' 18 4]\n",
            " [10 5 'oui' 23 9]\n",
            " [36 5 'oui' 15 10]\n",
            " [50 4 'oui' 17 9]\n",
            " [40 2 'oui' 19 8]\n",
            " [98 5 'oui' 19 9]\n",
            " [36 3 'oui' 17 8]\n",
            " [25 2 'oui' 18 6]\n",
            " [16 1 'oui' 19 4]\n",
            " [56 5 'non' 16 7]\n",
            " [23 6 'non' 16 6]\n",
            " [33 2 'oui' 18 10]\n",
            " [65 6 'oui' 17 6]\n",
            " [45 4 'oui' 16 9]\n",
            " [26 4 'oui' 17 8]\n",
            " [98 8 'oui' 19 9]\n",
            " [14 2 'oui' 17 4]\n",
            " [65 1 'oui' 15 9]\n",
            " [5 1 'oui' 19 8]\n",
            " [69 6 'oui' 19 10]\n",
            " [96 9 'non' 17 10]\n",
            " [36 1 'oui' 16 6]\n",
            " [50 2 'oui' 15 9]\n",
            " [16 3 'oui' 16 4]\n",
            " [18 1 'oui' 19 7]\n",
            " [26 2 'oui' 13 8]\n",
            " [56 11 'oui' 12 6]\n",
            " [65 2 'oui' 19 8]\n",
            " [89 6 'oui' 15 4]\n",
            " [46 4 'oui' 19 7]\n",
            " [66 5 'non' 20 7]\n",
            " [32 2 'oui' 17 9]\n",
            " [89 9 'non' 19 5]\n",
            " [98 13 'non' 18 10]\n",
            " [99 22 'oui' 17 9]\n",
            " [65 5 'non' 19 8]\n",
            " [66 6 'non' 16 6]\n",
            " [44 4 'oui' 17 8]\n",
            " [28 4 'non' 18 4]\n",
            " [69 4 'non' 18 8]\n",
            " [16 3 'non' 17 10]\n",
            " [32 3 'non' 16 9]\n",
            " [82 12 'non' 19 6]\n",
            " [19 3 'non' 18 9]\n",
            " [73 4 'non' 17 4]\n",
            " [33 3 'oui' 19 6]\n",
            " [25 1 'oui' 17 5]\n",
            " [19 2 'oui' 19 4]\n",
            " [64 6 'oui' 15 9]]\n"
          ],
          "name": "stdout"
        }
      ]
    },
    {
      "cell_type": "code",
      "metadata": {
        "id": "38vKGE6Nb2RR",
        "colab": {
          "base_uri": "https://localhost:8080/",
          "height": 119
        },
        "outputId": "fb35666b-a5b8-4bdc-ded3-f530f3b78eac"
      },
      "source": [
        "print(y)"
      ],
      "execution_count": null,
      "outputs": [
        {
          "output_type": "stream",
          "text": [
            "[1 0 1 0 1 0 1 0 1 1 0 1 1 0 1 0 1 1 0 1 0 0 1 1 1 1 1 0 1 0 1 1 0 1 1 0 1\n",
            " 0 0 0 1 1 1 0 1 0 1 0 1 0 1 0 1 0 1 1 0 0 1 0 0 0 0 1 1 1 0 1 0 1 0 1 1 1\n",
            " 1 0 1 1 1 1 0 0 1 1 1 1 1 1 1 0 0 1 0 1 0 1 0 1 0 1 1 1 1 0 1 0 1 0 0 1 1\n",
            " 1 0 1 1 0 0 1 0 1 0 1 0 0 1 1 0 0 1 0 0 0 1 1 1 1 1 0 0 1 0 1 0 1 0 1 0 1\n",
            " 1 1 1 1 0 0 1 1 0 1 0 1 1 0 1 0 1 1 0 1 0 1 0 0 0 1 0 0 1 1 1 0 0 1 1 0 1\n",
            " 0 1 1 1 0 0 0 0 0 1 0 0 0 1 1]\n"
          ],
          "name": "stdout"
        }
      ]
    },
    {
      "cell_type": "markdown",
      "metadata": {
        "id": "N6bQ0UgSU-NJ"
      },
      "source": [
        "### Encoding categorical data"
      ]
    },
    {
      "cell_type": "markdown",
      "metadata": {
        "id": "le5MJreAbW52"
      },
      "source": [
        "Label Encoding the \"isolation thermique\" column"
      ]
    },
    {
      "cell_type": "code",
      "metadata": {
        "id": "PxVKWXxLbczC"
      },
      "source": [
        "from sklearn.preprocessing import LabelEncoder\n",
        "le = LabelEncoder()\n",
        "X[:, 2] = le.fit_transform(X[:, 2])"
      ],
      "execution_count": null,
      "outputs": []
    },
    {
      "cell_type": "code",
      "metadata": {
        "id": "-M1KboxFb6OO",
        "colab": {
          "base_uri": "https://localhost:8080/",
          "height": 1000
        },
        "outputId": "3adce38b-b3c5-4fdd-eb83-bbf97adbd3e2"
      },
      "source": [
        "print(X)"
      ],
      "execution_count": null,
      "outputs": [
        {
          "output_type": "stream",
          "text": [
            "[[100 15 1 20 10]\n",
            " [95 10 0 17 7]\n",
            " [80 11 1 13 6]\n",
            " [75 9 1 15 5]\n",
            " [59 4 1 19 5]\n",
            " [88 12 0 17 6]\n",
            " [33 3 1 12 4]\n",
            " [46 5 1 16 5]\n",
            " [45 5 0 17 5]\n",
            " [102 19 0 21 10]\n",
            " [83 13 0 23 9]\n",
            " [71 17 1 18 8]\n",
            " [26 4 0 15 3]\n",
            " [49 5 0 14 4]\n",
            " [78 8 0 19 7]\n",
            " [82 9 0 18 9]\n",
            " [72 11 0 17 6]\n",
            " [69 7 1 16 5]\n",
            " [37 5 0 12 4]\n",
            " [96 10 0 22 9]\n",
            " [115 18 0 18 10]\n",
            " [75 7 1 16 9]\n",
            " [33 4 1 15 8]\n",
            " [42 6 1 16 9]\n",
            " [56 5 1 16 10]\n",
            " [133 9 0 19 7]\n",
            " [15 1 1 10 9]\n",
            " [140 10 1 16 8]\n",
            " [56 6 1 15 7]\n",
            " [46 5 1 16 10]\n",
            " [35 2 1 14 8]\n",
            " [46 4 1 11 7]\n",
            " [49 5 1 13 9]\n",
            " [126 15 0 22 7]\n",
            " [162 16 0 15 10]\n",
            " [56 3 1 16 8]\n",
            " [26 1 1 15 6]\n",
            " [46 5 1 19 4]\n",
            " [17 2 1 19 9]\n",
            " [52 6 1 17 6]\n",
            " [16 2 1 15 5]\n",
            " [14 2 1 16 4]\n",
            " [62 6 1 11 6]\n",
            " [44 5 1 13 9]\n",
            " [65 6 1 15 10]\n",
            " [23 2 1 11 7]\n",
            " [46 4 1 12 7]\n",
            " [120 18 0 22 8]\n",
            " [101 9 1 16 9]\n",
            " [140 11 1 14 8]\n",
            " [56 5 1 16 7]\n",
            " [49 4 0 14 10]\n",
            " [89 8 1 19 4]\n",
            " [89 10 0 17 5]\n",
            " [19 2 1 16 6]\n",
            " [89 5 1 18 9]\n",
            " [89 6 1 17 8]\n",
            " [48 4 0 18 7]\n",
            " [156 16 1 20 4]\n",
            " [146 14 1 18 6]\n",
            " [198 19 1 19 9]\n",
            " [146 12 0 23 8]\n",
            " [46 5 1 17 4]\n",
            " [59 8 0 16 10]\n",
            " [63 6 1 15 9]\n",
            " [47 4 1 14 5]\n",
            " [49 5 1 16 7]\n",
            " [89 6 1 13 6]\n",
            " [55 2 1 15 9]\n",
            " [54 4 1 16 8]\n",
            " [59 5 1 18 4]\n",
            " [160 13 1 17 5]\n",
            " [46 6 1 19 9]\n",
            " [28 3 1 18 10]\n",
            " [99 9 1 19 9]\n",
            " [89 9 1 19 8]\n",
            " [14 3 1 15 7]\n",
            " [16 4 0 17 10]\n",
            " [89 4 1 15 9]\n",
            " [46 5 0 19 7]\n",
            " [46 6 1 16 9]\n",
            " [15 4 0 16 10]\n",
            " [46 4 0 14 8]\n",
            " [45 6 0 17 8]\n",
            " [46 4 0 15 9]\n",
            " [48 3 0 14 9]\n",
            " [64 5 0 16 10]\n",
            " [34 5 0 19 7]\n",
            " [61 6 1 18 9]\n",
            " [89 6 1 17 8]\n",
            " [46 4 1 16 10]\n",
            " [13 3 1 15 7]\n",
            " [64 4 1 17 9]\n",
            " [91 5 1 18 8]\n",
            " [54 5 1 21 6]\n",
            " [54 6 1 19 5]\n",
            " [61 6 1 18 10]\n",
            " [94 9 1 16 9]\n",
            " [134 8 0 17 9]\n",
            " [49 4 1 16 4]\n",
            " [130 3 0 17 5]\n",
            " [65 6 1 18 6]\n",
            " [46 4 0 15 4]\n",
            " [84 8 0 14 3]\n",
            " [65 6 1 16 6]\n",
            " [89 4 1 18 4]\n",
            " [46 5 1 18 9]\n",
            " [79 6 1 17 6]\n",
            " [46 4 1 19 8]\n",
            " [79 5 1 17 4]\n",
            " [58 4 1 19 6]\n",
            " [46 5 1 20 2]\n",
            " [15 2 0 18 4]\n",
            " [92 11 1 17 10]\n",
            " [19 2 1 19 6]\n",
            " [46 3 1 15 5]\n",
            " [89 4 1 16 4]\n",
            " [46 4 1 17 2]\n",
            " [153 18 1 23 5]\n",
            " [68 5 1 18 6]\n",
            " [79 4 0 17 9]\n",
            " [63 6 1 16 4]\n",
            " [12 3 0 17 10]\n",
            " [46 4 1 17 9]\n",
            " [76 5 1 12 5]\n",
            " [98 8 1 17 9]\n",
            " [63 5 0 19 4]\n",
            " [65 6 1 16 6]\n",
            " [32 6 0 14 3]\n",
            " [25 4 1 15 9]\n",
            " [69 2 1 17 8]\n",
            " [46 6 1 21 7]\n",
            " [25 5 1 22 6]\n",
            " [53 4 1 19 4]\n",
            " [12 2 1 18 2]\n",
            " [31 6 0 17 10]\n",
            " [25 5 0 17 6]\n",
            " [98 18 1 19 9]\n",
            " [78 6 1 17 8]\n",
            " [15 5 1 16 7]\n",
            " [36 4 1 17 6]\n",
            " [20 6 1 19 8]\n",
            " [45 3 0 17 4]\n",
            " [98 9 1 18 7]\n",
            " [65 6 0 19 9]\n",
            " [46 4 1 17 10]\n",
            " [25 6 0 19 5]\n",
            " [39 3 0 16 6]\n",
            " [89 16 1 15 9]\n",
            " [78 5 1 17 3]\n",
            " [15 4 1 19 7]\n",
            " [35 6 1 18 4]\n",
            " [10 5 1 23 9]\n",
            " [36 5 1 15 10]\n",
            " [50 4 1 17 9]\n",
            " [40 2 1 19 8]\n",
            " [98 5 1 19 9]\n",
            " [36 3 1 17 8]\n",
            " [25 2 1 18 6]\n",
            " [16 1 1 19 4]\n",
            " [56 5 0 16 7]\n",
            " [23 6 0 16 6]\n",
            " [33 2 1 18 10]\n",
            " [65 6 1 17 6]\n",
            " [45 4 1 16 9]\n",
            " [26 4 1 17 8]\n",
            " [98 8 1 19 9]\n",
            " [14 2 1 17 4]\n",
            " [65 1 1 15 9]\n",
            " [5 1 1 19 8]\n",
            " [69 6 1 19 10]\n",
            " [96 9 0 17 10]\n",
            " [36 1 1 16 6]\n",
            " [50 2 1 15 9]\n",
            " [16 3 1 16 4]\n",
            " [18 1 1 19 7]\n",
            " [26 2 1 13 8]\n",
            " [56 11 1 12 6]\n",
            " [65 2 1 19 8]\n",
            " [89 6 1 15 4]\n",
            " [46 4 1 19 7]\n",
            " [66 5 0 20 7]\n",
            " [32 2 1 17 9]\n",
            " [89 9 0 19 5]\n",
            " [98 13 0 18 10]\n",
            " [99 22 1 17 9]\n",
            " [65 5 0 19 8]\n",
            " [66 6 0 16 6]\n",
            " [44 4 1 17 8]\n",
            " [28 4 0 18 4]\n",
            " [69 4 0 18 8]\n",
            " [16 3 0 17 10]\n",
            " [32 3 0 16 9]\n",
            " [82 12 0 19 6]\n",
            " [19 3 0 18 9]\n",
            " [73 4 0 17 4]\n",
            " [33 3 1 19 6]\n",
            " [25 1 1 17 5]\n",
            " [19 2 1 19 4]\n",
            " [64 6 1 15 9]]\n"
          ],
          "name": "stdout"
        }
      ]
    },
    {
      "cell_type": "markdown",
      "metadata": {
        "id": "vHol938cW8zd"
      },
      "source": [
        "### Splitting the dataset into the Training set and Test set"
      ]
    },
    {
      "cell_type": "code",
      "metadata": {
        "id": "Z-TDt0Y_XEfc"
      },
      "source": [
        "from sklearn.model_selection import train_test_split\n",
        "X_train, X_test, y_train, y_test = train_test_split(X, y, test_size = 0.20, random_state = 42)"
      ],
      "execution_count": null,
      "outputs": []
    },
    {
      "cell_type": "markdown",
      "metadata": {
        "id": "RE_FcHyfV3TQ"
      },
      "source": [
        "### Feature Scaling"
      ]
    },
    {
      "cell_type": "code",
      "metadata": {
        "id": "ViCrE00rV8Sk"
      },
      "source": [
        "from sklearn.preprocessing import StandardScaler\n",
        "sc = StandardScaler()\n",
        "X_train = sc.fit_transform(X_train)\n",
        "X_test = sc.transform(X_test)"
      ],
      "execution_count": null,
      "outputs": []
    },
    {
      "cell_type": "markdown",
      "metadata": {
        "id": "-zfEzkRVXIwF"
      },
      "source": [
        "## Part 2 - Building the ANN"
      ]
    },
    {
      "cell_type": "markdown",
      "metadata": {
        "id": "KvdeScabXtlB"
      },
      "source": [
        "### Initializing the ANN"
      ]
    },
    {
      "cell_type": "code",
      "metadata": {
        "id": "3dtrScHxXQox"
      },
      "source": [
        "ann = tf.keras.models.Sequential()"
      ],
      "execution_count": null,
      "outputs": []
    },
    {
      "cell_type": "markdown",
      "metadata": {
        "id": "rP6urV6SX7kS"
      },
      "source": [
        "### Adding the input layer and the first hidden layer"
      ]
    },
    {
      "cell_type": "code",
      "metadata": {
        "id": "bppGycBXYCQr"
      },
      "source": [
        "ann.add(tf.keras.layers.Dense(units=6, activation='relu'))"
      ],
      "execution_count": null,
      "outputs": []
    },
    {
      "cell_type": "markdown",
      "metadata": {
        "id": "BELWAc_8YJze"
      },
      "source": [
        "### Adding the second hidden layer"
      ]
    },
    {
      "cell_type": "code",
      "metadata": {
        "id": "JneR0u0sYRTd"
      },
      "source": [
        "ann.add(tf.keras.layers.Dense(units=18, activation='relu'))"
      ],
      "execution_count": null,
      "outputs": []
    },
    {
      "cell_type": "markdown",
      "metadata": {
        "id": "OyNEe6RXYcU4"
      },
      "source": [
        "### Adding the output layer"
      ]
    },
    {
      "cell_type": "code",
      "metadata": {
        "id": "Cn3x41RBYfvY"
      },
      "source": [
        "ann.add(tf.keras.layers.Dense(units=1, activation='sigmoid'))"
      ],
      "execution_count": null,
      "outputs": []
    },
    {
      "cell_type": "markdown",
      "metadata": {
        "id": "JT4u2S1_Y4WG"
      },
      "source": [
        "## Part 3 - Training the ANN"
      ]
    },
    {
      "cell_type": "markdown",
      "metadata": {
        "id": "8GWlJChhY_ZI"
      },
      "source": [
        "### Compiling the ANN"
      ]
    },
    {
      "cell_type": "code",
      "metadata": {
        "id": "fG3RrwDXZEaS"
      },
      "source": [
        "ann.compile(optimizer = 'SGD', loss = 'binary_crossentropy', metrics = ['accuracy'])"
      ],
      "execution_count": null,
      "outputs": []
    },
    {
      "cell_type": "markdown",
      "metadata": {
        "id": "0QR_G5u7ZLSM"
      },
      "source": [
        "### Training the ANN on the Training set"
      ]
    },
    {
      "cell_type": "code",
      "metadata": {
        "id": "nHZ-LKv_ZRb3",
        "colab": {
          "base_uri": "https://localhost:8080/",
          "height": 1000
        },
        "outputId": "a930dd35-6a8e-4898-ecc7-6a946d143271"
      },
      "source": [
        "ann.fit(X_train, y_train, batch_size = 42, epochs = 180)"
      ],
      "execution_count": null,
      "outputs": [
        {
          "output_type": "stream",
          "text": [
            "Epoch 1/180\n",
            "4/4 [==============================] - 0s 3ms/step - loss: 0.6938 - accuracy: 0.5063\n",
            "Epoch 2/180\n",
            "4/4 [==============================] - 0s 2ms/step - loss: 0.6937 - accuracy: 0.5000\n",
            "Epoch 3/180\n",
            "4/4 [==============================] - 0s 1ms/step - loss: 0.6937 - accuracy: 0.4938\n",
            "Epoch 4/180\n",
            "4/4 [==============================] - 0s 2ms/step - loss: 0.6935 - accuracy: 0.5250\n",
            "Epoch 5/180\n",
            "4/4 [==============================] - 0s 2ms/step - loss: 0.6934 - accuracy: 0.5188\n",
            "Epoch 6/180\n",
            "4/4 [==============================] - 0s 1ms/step - loss: 0.6933 - accuracy: 0.5188\n",
            "Epoch 7/180\n",
            "4/4 [==============================] - 0s 2ms/step - loss: 0.6933 - accuracy: 0.5188\n",
            "Epoch 8/180\n",
            "4/4 [==============================] - 0s 2ms/step - loss: 0.6931 - accuracy: 0.5063\n",
            "Epoch 9/180\n",
            "4/4 [==============================] - 0s 1ms/step - loss: 0.6931 - accuracy: 0.5125\n",
            "Epoch 10/180\n",
            "4/4 [==============================] - 0s 2ms/step - loss: 0.6929 - accuracy: 0.5063\n",
            "Epoch 11/180\n",
            "4/4 [==============================] - 0s 3ms/step - loss: 0.6930 - accuracy: 0.5063\n",
            "Epoch 12/180\n",
            "4/4 [==============================] - 0s 2ms/step - loss: 0.6928 - accuracy: 0.5188\n",
            "Epoch 13/180\n",
            "4/4 [==============================] - 0s 2ms/step - loss: 0.6928 - accuracy: 0.5188\n",
            "Epoch 14/180\n",
            "4/4 [==============================] - 0s 2ms/step - loss: 0.6926 - accuracy: 0.5188\n",
            "Epoch 15/180\n",
            "4/4 [==============================] - 0s 2ms/step - loss: 0.6926 - accuracy: 0.5188\n",
            "Epoch 16/180\n",
            "4/4 [==============================] - 0s 2ms/step - loss: 0.6924 - accuracy: 0.5250\n",
            "Epoch 17/180\n",
            "4/4 [==============================] - 0s 2ms/step - loss: 0.6924 - accuracy: 0.5250\n",
            "Epoch 18/180\n",
            "4/4 [==============================] - 0s 2ms/step - loss: 0.6924 - accuracy: 0.5188\n",
            "Epoch 19/180\n",
            "4/4 [==============================] - 0s 2ms/step - loss: 0.6923 - accuracy: 0.5125\n",
            "Epoch 20/180\n",
            "4/4 [==============================] - 0s 2ms/step - loss: 0.6922 - accuracy: 0.5188\n",
            "Epoch 21/180\n",
            "4/4 [==============================] - 0s 2ms/step - loss: 0.6921 - accuracy: 0.5125\n",
            "Epoch 22/180\n",
            "4/4 [==============================] - 0s 2ms/step - loss: 0.6920 - accuracy: 0.5188\n",
            "Epoch 23/180\n",
            "4/4 [==============================] - 0s 2ms/step - loss: 0.6919 - accuracy: 0.5250\n",
            "Epoch 24/180\n",
            "4/4 [==============================] - 0s 1ms/step - loss: 0.6918 - accuracy: 0.5188\n",
            "Epoch 25/180\n",
            "4/4 [==============================] - 0s 2ms/step - loss: 0.6918 - accuracy: 0.5063\n",
            "Epoch 26/180\n",
            "4/4 [==============================] - 0s 1ms/step - loss: 0.6918 - accuracy: 0.5125\n",
            "Epoch 27/180\n",
            "4/4 [==============================] - 0s 2ms/step - loss: 0.6917 - accuracy: 0.5063\n",
            "Epoch 28/180\n",
            "4/4 [==============================] - 0s 1ms/step - loss: 0.6917 - accuracy: 0.5063\n",
            "Epoch 29/180\n",
            "4/4 [==============================] - 0s 2ms/step - loss: 0.6915 - accuracy: 0.5000\n",
            "Epoch 30/180\n",
            "4/4 [==============================] - 0s 2ms/step - loss: 0.6915 - accuracy: 0.5063\n",
            "Epoch 31/180\n",
            "4/4 [==============================] - 0s 2ms/step - loss: 0.6914 - accuracy: 0.5000\n",
            "Epoch 32/180\n",
            "4/4 [==============================] - 0s 2ms/step - loss: 0.6913 - accuracy: 0.5063\n",
            "Epoch 33/180\n",
            "4/4 [==============================] - 0s 2ms/step - loss: 0.6913 - accuracy: 0.5063\n",
            "Epoch 34/180\n",
            "4/4 [==============================] - 0s 3ms/step - loss: 0.6912 - accuracy: 0.5063\n",
            "Epoch 35/180\n",
            "4/4 [==============================] - 0s 2ms/step - loss: 0.6912 - accuracy: 0.5000\n",
            "Epoch 36/180\n",
            "4/4 [==============================] - 0s 2ms/step - loss: 0.6911 - accuracy: 0.5063\n",
            "Epoch 37/180\n",
            "4/4 [==============================] - 0s 2ms/step - loss: 0.6910 - accuracy: 0.5000\n",
            "Epoch 38/180\n",
            "4/4 [==============================] - 0s 2ms/step - loss: 0.6910 - accuracy: 0.4938\n",
            "Epoch 39/180\n",
            "4/4 [==============================] - 0s 2ms/step - loss: 0.6910 - accuracy: 0.4938\n",
            "Epoch 40/180\n",
            "4/4 [==============================] - 0s 2ms/step - loss: 0.6909 - accuracy: 0.4938\n",
            "Epoch 41/180\n",
            "4/4 [==============================] - 0s 2ms/step - loss: 0.6908 - accuracy: 0.4875\n",
            "Epoch 42/180\n",
            "4/4 [==============================] - 0s 2ms/step - loss: 0.6907 - accuracy: 0.4938\n",
            "Epoch 43/180\n",
            "4/4 [==============================] - 0s 2ms/step - loss: 0.6908 - accuracy: 0.4875\n",
            "Epoch 44/180\n",
            "4/4 [==============================] - 0s 2ms/step - loss: 0.6907 - accuracy: 0.4812\n",
            "Epoch 45/180\n",
            "4/4 [==============================] - 0s 2ms/step - loss: 0.6906 - accuracy: 0.4812\n",
            "Epoch 46/180\n",
            "4/4 [==============================] - 0s 2ms/step - loss: 0.6907 - accuracy: 0.4812\n",
            "Epoch 47/180\n",
            "4/4 [==============================] - 0s 2ms/step - loss: 0.6906 - accuracy: 0.4812\n",
            "Epoch 48/180\n",
            "4/4 [==============================] - 0s 2ms/step - loss: 0.6904 - accuracy: 0.4812\n",
            "Epoch 49/180\n",
            "4/4 [==============================] - 0s 2ms/step - loss: 0.6904 - accuracy: 0.4750\n",
            "Epoch 50/180\n",
            "4/4 [==============================] - 0s 2ms/step - loss: 0.6905 - accuracy: 0.4812\n",
            "Epoch 51/180\n",
            "4/4 [==============================] - 0s 2ms/step - loss: 0.6903 - accuracy: 0.4812\n",
            "Epoch 52/180\n",
            "4/4 [==============================] - 0s 1ms/step - loss: 0.6902 - accuracy: 0.4750\n",
            "Epoch 53/180\n",
            "4/4 [==============================] - 0s 2ms/step - loss: 0.6901 - accuracy: 0.4750\n",
            "Epoch 54/180\n",
            "4/4 [==============================] - 0s 1ms/step - loss: 0.6901 - accuracy: 0.4750\n",
            "Epoch 55/180\n",
            "4/4 [==============================] - 0s 2ms/step - loss: 0.6901 - accuracy: 0.4750\n",
            "Epoch 56/180\n",
            "4/4 [==============================] - 0s 2ms/step - loss: 0.6899 - accuracy: 0.4750\n",
            "Epoch 57/180\n",
            "4/4 [==============================] - 0s 1ms/step - loss: 0.6900 - accuracy: 0.4750\n",
            "Epoch 58/180\n",
            "4/4 [==============================] - 0s 2ms/step - loss: 0.6898 - accuracy: 0.4750\n",
            "Epoch 59/180\n",
            "4/4 [==============================] - 0s 1ms/step - loss: 0.6899 - accuracy: 0.4750\n",
            "Epoch 60/180\n",
            "4/4 [==============================] - 0s 2ms/step - loss: 0.6898 - accuracy: 0.4875\n",
            "Epoch 61/180\n",
            "4/4 [==============================] - 0s 2ms/step - loss: 0.6898 - accuracy: 0.4875\n",
            "Epoch 62/180\n",
            "4/4 [==============================] - 0s 2ms/step - loss: 0.6896 - accuracy: 0.5000\n",
            "Epoch 63/180\n",
            "4/4 [==============================] - 0s 2ms/step - loss: 0.6897 - accuracy: 0.5063\n",
            "Epoch 64/180\n",
            "4/4 [==============================] - 0s 2ms/step - loss: 0.6896 - accuracy: 0.4875\n",
            "Epoch 65/180\n",
            "4/4 [==============================] - 0s 2ms/step - loss: 0.6895 - accuracy: 0.5000\n",
            "Epoch 66/180\n",
            "4/4 [==============================] - 0s 2ms/step - loss: 0.6894 - accuracy: 0.5000\n",
            "Epoch 67/180\n",
            "4/4 [==============================] - 0s 2ms/step - loss: 0.6893 - accuracy: 0.5000\n",
            "Epoch 68/180\n",
            "4/4 [==============================] - 0s 2ms/step - loss: 0.6894 - accuracy: 0.4938\n",
            "Epoch 69/180\n",
            "4/4 [==============================] - 0s 2ms/step - loss: 0.6892 - accuracy: 0.4938\n",
            "Epoch 70/180\n",
            "4/4 [==============================] - 0s 2ms/step - loss: 0.6891 - accuracy: 0.5063\n",
            "Epoch 71/180\n",
            "4/4 [==============================] - 0s 2ms/step - loss: 0.6893 - accuracy: 0.5125\n",
            "Epoch 72/180\n",
            "4/4 [==============================] - 0s 2ms/step - loss: 0.6890 - accuracy: 0.5063\n",
            "Epoch 73/180\n",
            "4/4 [==============================] - 0s 2ms/step - loss: 0.6890 - accuracy: 0.5063\n",
            "Epoch 74/180\n",
            "4/4 [==============================] - 0s 1ms/step - loss: 0.6890 - accuracy: 0.5000\n",
            "Epoch 75/180\n",
            "4/4 [==============================] - 0s 2ms/step - loss: 0.6888 - accuracy: 0.5000\n",
            "Epoch 76/180\n",
            "4/4 [==============================] - 0s 2ms/step - loss: 0.6888 - accuracy: 0.5063\n",
            "Epoch 77/180\n",
            "4/4 [==============================] - 0s 2ms/step - loss: 0.6888 - accuracy: 0.5000\n",
            "Epoch 78/180\n",
            "4/4 [==============================] - 0s 3ms/step - loss: 0.6887 - accuracy: 0.5063\n",
            "Epoch 79/180\n",
            "4/4 [==============================] - 0s 3ms/step - loss: 0.6886 - accuracy: 0.5063\n",
            "Epoch 80/180\n",
            "4/4 [==============================] - 0s 2ms/step - loss: 0.6886 - accuracy: 0.5063\n",
            "Epoch 81/180\n",
            "4/4 [==============================] - 0s 1ms/step - loss: 0.6886 - accuracy: 0.5063\n",
            "Epoch 82/180\n",
            "4/4 [==============================] - 0s 2ms/step - loss: 0.6886 - accuracy: 0.5063\n",
            "Epoch 83/180\n",
            "4/4 [==============================] - 0s 2ms/step - loss: 0.6884 - accuracy: 0.5063\n",
            "Epoch 84/180\n",
            "4/4 [==============================] - 0s 2ms/step - loss: 0.6884 - accuracy: 0.5063\n",
            "Epoch 85/180\n",
            "4/4 [==============================] - 0s 2ms/step - loss: 0.6883 - accuracy: 0.5063\n",
            "Epoch 86/180\n",
            "4/4 [==============================] - 0s 2ms/step - loss: 0.6883 - accuracy: 0.5063\n",
            "Epoch 87/180\n",
            "4/4 [==============================] - 0s 2ms/step - loss: 0.6882 - accuracy: 0.5063\n",
            "Epoch 88/180\n",
            "4/4 [==============================] - 0s 2ms/step - loss: 0.6883 - accuracy: 0.5063\n",
            "Epoch 89/180\n",
            "4/4 [==============================] - 0s 2ms/step - loss: 0.6881 - accuracy: 0.5125\n",
            "Epoch 90/180\n",
            "4/4 [==============================] - 0s 2ms/step - loss: 0.6880 - accuracy: 0.5188\n",
            "Epoch 91/180\n",
            "4/4 [==============================] - 0s 2ms/step - loss: 0.6880 - accuracy: 0.5125\n",
            "Epoch 92/180\n",
            "4/4 [==============================] - 0s 2ms/step - loss: 0.6881 - accuracy: 0.5125\n",
            "Epoch 93/180\n",
            "4/4 [==============================] - 0s 1ms/step - loss: 0.6880 - accuracy: 0.5000\n",
            "Epoch 94/180\n",
            "4/4 [==============================] - 0s 2ms/step - loss: 0.6880 - accuracy: 0.5125\n",
            "Epoch 95/180\n",
            "4/4 [==============================] - 0s 2ms/step - loss: 0.6878 - accuracy: 0.5125\n",
            "Epoch 96/180\n",
            "4/4 [==============================] - 0s 2ms/step - loss: 0.6878 - accuracy: 0.5125\n",
            "Epoch 97/180\n",
            "4/4 [==============================] - 0s 2ms/step - loss: 0.6877 - accuracy: 0.5188\n",
            "Epoch 98/180\n",
            "4/4 [==============================] - 0s 1ms/step - loss: 0.6878 - accuracy: 0.5063\n",
            "Epoch 99/180\n",
            "4/4 [==============================] - 0s 2ms/step - loss: 0.6876 - accuracy: 0.5188\n",
            "Epoch 100/180\n",
            "4/4 [==============================] - 0s 2ms/step - loss: 0.6876 - accuracy: 0.5188\n",
            "Epoch 101/180\n",
            "4/4 [==============================] - 0s 2ms/step - loss: 0.6876 - accuracy: 0.5063\n",
            "Epoch 102/180\n",
            "4/4 [==============================] - 0s 2ms/step - loss: 0.6875 - accuracy: 0.5125\n",
            "Epoch 103/180\n",
            "4/4 [==============================] - 0s 2ms/step - loss: 0.6874 - accuracy: 0.5063\n",
            "Epoch 104/180\n",
            "4/4 [==============================] - 0s 2ms/step - loss: 0.6873 - accuracy: 0.5188\n",
            "Epoch 105/180\n",
            "4/4 [==============================] - 0s 2ms/step - loss: 0.6873 - accuracy: 0.5250\n",
            "Epoch 106/180\n",
            "4/4 [==============================] - 0s 1ms/step - loss: 0.6872 - accuracy: 0.5250\n",
            "Epoch 107/180\n",
            "4/4 [==============================] - 0s 1ms/step - loss: 0.6872 - accuracy: 0.5312\n",
            "Epoch 108/180\n",
            "4/4 [==============================] - 0s 2ms/step - loss: 0.6872 - accuracy: 0.5312\n",
            "Epoch 109/180\n",
            "4/4 [==============================] - 0s 2ms/step - loss: 0.6870 - accuracy: 0.5312\n",
            "Epoch 110/180\n",
            "4/4 [==============================] - 0s 1ms/step - loss: 0.6871 - accuracy: 0.5250\n",
            "Epoch 111/180\n",
            "4/4 [==============================] - 0s 2ms/step - loss: 0.6870 - accuracy: 0.5250\n",
            "Epoch 112/180\n",
            "4/4 [==============================] - 0s 2ms/step - loss: 0.6869 - accuracy: 0.5250\n",
            "Epoch 113/180\n",
            "4/4 [==============================] - 0s 1ms/step - loss: 0.6869 - accuracy: 0.5312\n",
            "Epoch 114/180\n",
            "4/4 [==============================] - 0s 1ms/step - loss: 0.6868 - accuracy: 0.5250\n",
            "Epoch 115/180\n",
            "4/4 [==============================] - 0s 2ms/step - loss: 0.6867 - accuracy: 0.5250\n",
            "Epoch 116/180\n",
            "4/4 [==============================] - 0s 2ms/step - loss: 0.6867 - accuracy: 0.5312\n",
            "Epoch 117/180\n",
            "4/4 [==============================] - 0s 2ms/step - loss: 0.6866 - accuracy: 0.5250\n",
            "Epoch 118/180\n",
            "4/4 [==============================] - 0s 2ms/step - loss: 0.6866 - accuracy: 0.5250\n",
            "Epoch 119/180\n",
            "4/4 [==============================] - 0s 3ms/step - loss: 0.6865 - accuracy: 0.5250\n",
            "Epoch 120/180\n",
            "4/4 [==============================] - 0s 3ms/step - loss: 0.6865 - accuracy: 0.5250\n",
            "Epoch 121/180\n",
            "4/4 [==============================] - 0s 2ms/step - loss: 0.6864 - accuracy: 0.5312\n",
            "Epoch 122/180\n",
            "4/4 [==============================] - 0s 1ms/step - loss: 0.6864 - accuracy: 0.5250\n",
            "Epoch 123/180\n",
            "4/4 [==============================] - 0s 2ms/step - loss: 0.6863 - accuracy: 0.5312\n",
            "Epoch 124/180\n",
            "4/4 [==============================] - 0s 2ms/step - loss: 0.6863 - accuracy: 0.5312\n",
            "Epoch 125/180\n",
            "4/4 [==============================] - 0s 2ms/step - loss: 0.6862 - accuracy: 0.5250\n",
            "Epoch 126/180\n",
            "4/4 [==============================] - 0s 2ms/step - loss: 0.6861 - accuracy: 0.5250\n",
            "Epoch 127/180\n",
            "4/4 [==============================] - 0s 2ms/step - loss: 0.6861 - accuracy: 0.5250\n",
            "Epoch 128/180\n",
            "4/4 [==============================] - 0s 2ms/step - loss: 0.6860 - accuracy: 0.5250\n",
            "Epoch 129/180\n",
            "4/4 [==============================] - 0s 2ms/step - loss: 0.6860 - accuracy: 0.5250\n",
            "Epoch 130/180\n",
            "4/4 [==============================] - 0s 2ms/step - loss: 0.6860 - accuracy: 0.5312\n",
            "Epoch 131/180\n",
            "4/4 [==============================] - 0s 2ms/step - loss: 0.6859 - accuracy: 0.5250\n",
            "Epoch 132/180\n",
            "4/4 [==============================] - 0s 2ms/step - loss: 0.6858 - accuracy: 0.5250\n",
            "Epoch 133/180\n",
            "4/4 [==============================] - 0s 2ms/step - loss: 0.6857 - accuracy: 0.5250\n",
            "Epoch 134/180\n",
            "4/4 [==============================] - 0s 3ms/step - loss: 0.6857 - accuracy: 0.5250\n",
            "Epoch 135/180\n",
            "4/4 [==============================] - 0s 2ms/step - loss: 0.6857 - accuracy: 0.5250\n",
            "Epoch 136/180\n",
            "4/4 [==============================] - 0s 2ms/step - loss: 0.6856 - accuracy: 0.5312\n",
            "Epoch 137/180\n",
            "4/4 [==============================] - 0s 2ms/step - loss: 0.6856 - accuracy: 0.5250\n",
            "Epoch 138/180\n",
            "4/4 [==============================] - 0s 2ms/step - loss: 0.6855 - accuracy: 0.5312\n",
            "Epoch 139/180\n",
            "4/4 [==============================] - 0s 2ms/step - loss: 0.6855 - accuracy: 0.5312\n",
            "Epoch 140/180\n",
            "4/4 [==============================] - 0s 2ms/step - loss: 0.6855 - accuracy: 0.5312\n",
            "Epoch 141/180\n",
            "4/4 [==============================] - 0s 2ms/step - loss: 0.6854 - accuracy: 0.5312\n",
            "Epoch 142/180\n",
            "4/4 [==============================] - 0s 2ms/step - loss: 0.6853 - accuracy: 0.5312\n",
            "Epoch 143/180\n",
            "4/4 [==============================] - 0s 2ms/step - loss: 0.6852 - accuracy: 0.5375\n",
            "Epoch 144/180\n",
            "4/4 [==============================] - 0s 2ms/step - loss: 0.6852 - accuracy: 0.5375\n",
            "Epoch 145/180\n",
            "4/4 [==============================] - 0s 2ms/step - loss: 0.6852 - accuracy: 0.5375\n",
            "Epoch 146/180\n",
            "4/4 [==============================] - 0s 2ms/step - loss: 0.6851 - accuracy: 0.5375\n",
            "Epoch 147/180\n",
            "4/4 [==============================] - 0s 2ms/step - loss: 0.6851 - accuracy: 0.5375\n",
            "Epoch 148/180\n",
            "4/4 [==============================] - 0s 1ms/step - loss: 0.6850 - accuracy: 0.5375\n",
            "Epoch 149/180\n",
            "4/4 [==============================] - 0s 2ms/step - loss: 0.6850 - accuracy: 0.5312\n",
            "Epoch 150/180\n",
            "4/4 [==============================] - 0s 1ms/step - loss: 0.6849 - accuracy: 0.5375\n",
            "Epoch 151/180\n",
            "4/4 [==============================] - 0s 1ms/step - loss: 0.6849 - accuracy: 0.5312\n",
            "Epoch 152/180\n",
            "4/4 [==============================] - 0s 1ms/step - loss: 0.6849 - accuracy: 0.5375\n",
            "Epoch 153/180\n",
            "4/4 [==============================] - 0s 2ms/step - loss: 0.6847 - accuracy: 0.5375\n",
            "Epoch 154/180\n",
            "4/4 [==============================] - 0s 1ms/step - loss: 0.6847 - accuracy: 0.5437\n",
            "Epoch 155/180\n",
            "4/4 [==============================] - 0s 1ms/step - loss: 0.6847 - accuracy: 0.5375\n",
            "Epoch 156/180\n",
            "4/4 [==============================] - 0s 2ms/step - loss: 0.6846 - accuracy: 0.5500\n",
            "Epoch 157/180\n",
            "4/4 [==============================] - 0s 2ms/step - loss: 0.6845 - accuracy: 0.5437\n",
            "Epoch 158/180\n",
            "4/4 [==============================] - 0s 2ms/step - loss: 0.6845 - accuracy: 0.5375\n",
            "Epoch 159/180\n",
            "4/4 [==============================] - 0s 1ms/step - loss: 0.6844 - accuracy: 0.5437\n",
            "Epoch 160/180\n",
            "4/4 [==============================] - 0s 2ms/step - loss: 0.6844 - accuracy: 0.5312\n",
            "Epoch 161/180\n",
            "4/4 [==============================] - 0s 2ms/step - loss: 0.6845 - accuracy: 0.5375\n",
            "Epoch 162/180\n",
            "4/4 [==============================] - 0s 2ms/step - loss: 0.6842 - accuracy: 0.5437\n",
            "Epoch 163/180\n",
            "4/4 [==============================] - 0s 2ms/step - loss: 0.6843 - accuracy: 0.5437\n",
            "Epoch 164/180\n",
            "4/4 [==============================] - 0s 2ms/step - loss: 0.6842 - accuracy: 0.5437\n",
            "Epoch 165/180\n",
            "4/4 [==============================] - 0s 2ms/step - loss: 0.6842 - accuracy: 0.5500\n",
            "Epoch 166/180\n",
            "4/4 [==============================] - 0s 1ms/step - loss: 0.6841 - accuracy: 0.5500\n",
            "Epoch 167/180\n",
            "4/4 [==============================] - 0s 2ms/step - loss: 0.6840 - accuracy: 0.5437\n",
            "Epoch 168/180\n",
            "4/4 [==============================] - 0s 2ms/step - loss: 0.6840 - accuracy: 0.5500\n",
            "Epoch 169/180\n",
            "4/4 [==============================] - 0s 2ms/step - loss: 0.6839 - accuracy: 0.5500\n",
            "Epoch 170/180\n",
            "4/4 [==============================] - 0s 2ms/step - loss: 0.6839 - accuracy: 0.5500\n",
            "Epoch 171/180\n",
            "4/4 [==============================] - 0s 2ms/step - loss: 0.6838 - accuracy: 0.5500\n",
            "Epoch 172/180\n",
            "4/4 [==============================] - 0s 1ms/step - loss: 0.6838 - accuracy: 0.5500\n",
            "Epoch 173/180\n",
            "4/4 [==============================] - 0s 2ms/step - loss: 0.6837 - accuracy: 0.5562\n",
            "Epoch 174/180\n",
            "4/4 [==============================] - 0s 2ms/step - loss: 0.6837 - accuracy: 0.5562\n",
            "Epoch 175/180\n",
            "4/4 [==============================] - 0s 2ms/step - loss: 0.6836 - accuracy: 0.5562\n",
            "Epoch 176/180\n",
            "4/4 [==============================] - 0s 2ms/step - loss: 0.6836 - accuracy: 0.5562\n",
            "Epoch 177/180\n",
            "4/4 [==============================] - 0s 2ms/step - loss: 0.6837 - accuracy: 0.5500\n",
            "Epoch 178/180\n",
            "4/4 [==============================] - 0s 2ms/step - loss: 0.6836 - accuracy: 0.5437\n",
            "Epoch 179/180\n",
            "4/4 [==============================] - 0s 2ms/step - loss: 0.6835 - accuracy: 0.5500\n",
            "Epoch 180/180\n",
            "4/4 [==============================] - 0s 2ms/step - loss: 0.6834 - accuracy: 0.5437\n"
          ],
          "name": "stdout"
        },
        {
          "output_type": "execute_result",
          "data": {
            "text/plain": [
              "<tensorflow.python.keras.callbacks.History at 0x7f9a91570550>"
            ]
          },
          "metadata": {
            "tags": []
          },
          "execution_count": 15
        }
      ]
    },
    {
      "cell_type": "markdown",
      "metadata": {
        "id": "tJj5k2MxZga3"
      },
      "source": [
        "## Part 4 - Making the predictions and evaluating the model"
      ]
    },
    {
      "cell_type": "markdown",
      "metadata": {
        "id": "84QFoqGYeXHL"
      },
      "source": [
        "### Predicting the result of a single observation"
      ]
    },
    {
      "cell_type": "code",
      "metadata": {
        "id": "2d8IoCCkeWGL",
        "colab": {
          "base_uri": "https://localhost:8080/",
          "height": 34
        },
        "outputId": "c08dcc9d-3cf9-4878-92fa-bba7b6e803fb"
      },
      "source": [
        "print(ann.predict(sc.transform([[64, 6, 1, 15, 9,]])) > 0.5)"
      ],
      "execution_count": null,
      "outputs": [
        {
          "output_type": "stream",
          "text": [
            "[[ True]]\n"
          ],
          "name": "stdout"
        }
      ]
    },
    {
      "cell_type": "markdown",
      "metadata": {
        "id": "u7yx47jPZt11"
      },
      "source": [
        "### Predicting the Test set results "
      ]
    },
    {
      "cell_type": "code",
      "metadata": {
        "id": "nIyEeQdRZwgs",
        "colab": {
          "base_uri": "https://localhost:8080/",
          "height": 697
        },
        "outputId": "3a7c1e4c-b221-440a-8045-772cee458932"
      },
      "source": [
        "y_pred = ann.predict(X_test)\n",
        "y_pred = (y_pred > 0.5)\n",
        "print(np.concatenate((y_pred.reshape(len(y_pred),1), y_test.reshape(len(y_test),1)),1))"
      ],
      "execution_count": null,
      "outputs": [
        {
          "output_type": "stream",
          "text": [
            "[[1 1]\n",
            " [0 0]\n",
            " [1 1]\n",
            " [1 0]\n",
            " [1 1]\n",
            " [1 0]\n",
            " [1 1]\n",
            " [0 0]\n",
            " [1 0]\n",
            " [1 0]\n",
            " [1 0]\n",
            " [1 1]\n",
            " [1 1]\n",
            " [1 1]\n",
            " [1 1]\n",
            " [1 1]\n",
            " [1 0]\n",
            " [1 0]\n",
            " [1 1]\n",
            " [1 0]\n",
            " [1 1]\n",
            " [1 1]\n",
            " [1 1]\n",
            " [1 1]\n",
            " [1 1]\n",
            " [0 0]\n",
            " [1 1]\n",
            " [1 1]\n",
            " [1 1]\n",
            " [1 1]\n",
            " [0 1]\n",
            " [1 0]\n",
            " [0 1]\n",
            " [1 0]\n",
            " [1 1]\n",
            " [1 1]\n",
            " [1 1]\n",
            " [0 0]\n",
            " [1 1]\n",
            " [1 1]]\n"
          ],
          "name": "stdout"
        }
      ]
    },
    {
      "cell_type": "markdown",
      "metadata": {
        "id": "o0oyfLWoaEGw"
      },
      "source": [
        "### Making the Confusion Matrix"
      ]
    },
    {
      "cell_type": "code",
      "metadata": {
        "id": "ci6K_r6LaF6P",
        "colab": {
          "base_uri": "https://localhost:8080/",
          "height": 68
        },
        "outputId": "60ffbebb-05bc-40cd-b848-f50e999b5d4b"
      },
      "source": [
        "from sklearn.metrics import confusion_matrix, accuracy_score\n",
        "cm = confusion_matrix(y_test, y_pred)\n",
        "print(cm)\n",
        "accuracy_score(y_test, y_pred)"
      ],
      "execution_count": null,
      "outputs": [
        {
          "output_type": "stream",
          "text": [
            "[[ 4 10]\n",
            " [ 2 24]]\n"
          ],
          "name": "stdout"
        },
        {
          "output_type": "execute_result",
          "data": {
            "text/plain": [
              "0.7"
            ]
          },
          "metadata": {
            "tags": []
          },
          "execution_count": 18
        }
      ]
    }
  ]
}