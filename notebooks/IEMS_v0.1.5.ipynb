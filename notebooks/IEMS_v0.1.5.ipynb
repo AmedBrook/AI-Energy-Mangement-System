{
  "nbformat": 4,
  "nbformat_minor": 0,
  "metadata": {
    "colab": {
      "provenance": [],
      "machine_shape": "hm"
    },
    "kernelspec": {
      "name": "python3",
      "display_name": "Python 3"
    }
  },
  "cells": [
    {
      "cell_type": "markdown",
      "metadata": {
        "id": "0MRC0e0KhQ0S"
      },
      "source": [
        "# Decision Tree Classification projet stage \n"
      ]
    },
    {
      "cell_type": "markdown",
      "metadata": {
        "id": "LWd1UlMnhT2s"
      },
      "source": [
        "## Importing the libraries."
      ]
    },
    {
      "cell_type": "code",
      "metadata": {
        "id": "YvGPUQaHhXfL"
      },
      "source": [
        "import numpy as np\n",
        "import matplotlib.pyplot as plt\n",
        "import pandas as pd\n",
        "import tensorflow as tf\n",
        "import random as python_random"
      ],
      "execution_count": 28,
      "outputs": []
    },
    {
      "cell_type": "code",
      "metadata": {
        "id": "FX6QvwfZFsaV"
      },
      "source": [
        "np.random.seed(123)\n",
        "python_random.seed(123)\n",
        "tf.random.set_seed(123)"
      ],
      "execution_count": 29,
      "outputs": []
    },
    {
      "cell_type": "markdown",
      "metadata": {
        "id": "K1VMqkGvhc3-"
      },
      "source": [
        "## Importing the dataset for 'Local Refregiration'. "
      ]
    },
    {
      "cell_type": "code",
      "metadata": {
        "id": "M52QDmyzhh9s"
      },
      "source": [
        "dataset = pd.read_csv('L_Refreg.csv')\n",
        "X = dataset.iloc[:, :-1].values\n",
        "y = dataset.iloc[:, -1].values"
      ],
      "execution_count": 30,
      "outputs": []
    },
    {
      "cell_type": "markdown",
      "metadata": {
        "id": "YvxIPVyMhmKp"
      },
      "source": [
        "## Splitting the dataset into the Training set and Test set."
      ]
    },
    {
      "cell_type": "code",
      "metadata": {
        "id": "AVzJWAXIhxoC"
      },
      "source": [
        "from sklearn.model_selection import train_test_split\n",
        "X_train, X_test, y_train, y_test = train_test_split(X, y, test_size = 0.15, random_state = 11)\n"
      ],
      "execution_count": 31,
      "outputs": []
    },
    {
      "cell_type": "code",
      "metadata": {
        "id": "P3nS3-6r1i2B",
        "colab": {
          "base_uri": "https://localhost:8080/"
        },
        "outputId": "6b25fd0e-f5e7-4b8e-a29c-21b9a486be97"
      },
      "source": [
        "print(X_train)"
      ],
      "execution_count": 32,
      "outputs": [
        {
          "output_type": "stream",
          "name": "stdout",
          "text": [
            "[[ 17   9]\n",
            " [ 19   6]\n",
            " [ 33   4]\n",
            " [ 52   6]\n",
            " [ 91   8]\n",
            " [ 75   9]\n",
            " [ 26   6]\n",
            " [115  10]\n",
            " [146   8]\n",
            " [198   9]\n",
            " [ 61  10]\n",
            " [ 80   6]\n",
            " [ 71   8]\n",
            " [ 56   7]\n",
            " [102  10]\n",
            " [ 55   9]\n",
            " [ 89   4]\n",
            " [ 49   7]\n",
            " [ 94   9]\n",
            " [ 62   6]\n",
            " [ 54   8]\n",
            " [ 37   4]\n",
            " [ 48   9]\n",
            " [ 15   9]\n",
            " [ 49   4]\n",
            " [ 96   9]\n",
            " [ 47   5]\n",
            " [ 64  10]\n",
            " [120   8]\n",
            " [ 46   9]\n",
            " [ 16  10]\n",
            " [ 46   9]\n",
            " [ 45   5]\n",
            " [ 75   5]\n",
            " [146   6]\n",
            " [ 54   5]\n",
            " [ 56   8]\n",
            " [ 56   7]\n",
            " [ 28  10]\n",
            " [ 89   5]\n",
            " [ 88   6]\n",
            " [ 46   7]\n",
            " [ 89   8]\n",
            " [ 64   9]\n",
            " [ 34   7]\n",
            " [ 16   5]\n",
            " [100  10]\n",
            " [ 82   9]\n",
            " [ 54   6]\n",
            " [ 46   5]\n",
            " [ 78   7]\n",
            " [ 65  10]\n",
            " [ 46  10]\n",
            " [ 48   7]\n",
            " [ 83   9]\n",
            " [ 89   8]\n",
            " [140   8]\n",
            " [ 42   9]\n",
            " [ 63   9]\n",
            " [ 44   9]\n",
            " [ 59   4]\n",
            " [ 89   6]\n",
            " [ 69   5]\n",
            " [ 61   9]\n",
            " [ 46   4]\n",
            " [ 99   9]\n",
            " [ 95   7]\n",
            " [ 26   3]\n",
            " [162  10]\n",
            " [ 59   5]\n",
            " [ 23   7]\n",
            " [ 49   9]\n",
            " [101   9]\n",
            " [ 56  10]\n",
            " [ 46   8]\n",
            " [160   5]\n",
            " [126   7]\n",
            " [ 14   7]\n",
            " [ 49   4]\n",
            " [ 89   9]\n",
            " [ 15  10]\n",
            " [ 13   7]\n",
            " [ 46   9]\n",
            " [ 59  10]\n",
            " [133   7]]\n"
          ]
        }
      ]
    },
    {
      "cell_type": "code",
      "metadata": {
        "id": "8dpDLojm1mVG",
        "colab": {
          "base_uri": "https://localhost:8080/"
        },
        "outputId": "fbfb58fb-dc8c-4c9c-8e7f-26db46b95fdd"
      },
      "source": [
        "print(y_train)"
      ],
      "execution_count": 33,
      "outputs": [
        {
          "output_type": "stream",
          "name": "stdout",
          "text": [
            "[0 1 1 0 1 0 1 0 0 0 0 1 1 1 1 0 1 0 1 1 1 0 1 1 1 1 1 1 0 1 1 1 1 0 0 1 0\n",
            " 1 1 0 0 1 0 0 1 1 1 0 0 0 1 1 0 0 0 0 0 1 1 0 0 1 1 1 0 1 0 1 1 1 0 0 1 1\n",
            " 1 1 1 1 0 1 0 1 0 1 1]\n"
          ]
        }
      ]
    },
    {
      "cell_type": "code",
      "metadata": {
        "id": "qbb7i0DH1qui",
        "colab": {
          "base_uri": "https://localhost:8080/"
        },
        "outputId": "5a2a1e24-de39-43bb-8bd2-0e99fb78400f"
      },
      "source": [
        "print(X_test)"
      ],
      "execution_count": 34,
      "outputs": [
        {
          "output_type": "stream",
          "name": "stdout",
          "text": [
            "[[ 46   7]\n",
            " [140   8]\n",
            " [ 33   8]\n",
            " [156   4]\n",
            " [ 14   4]\n",
            " [134   9]\n",
            " [ 46   4]\n",
            " [ 46  10]\n",
            " [ 35   8]\n",
            " [ 49  10]\n",
            " [ 89   8]\n",
            " [ 89   9]\n",
            " [ 45   8]\n",
            " [ 46   7]\n",
            " [ 72   6]]\n"
          ]
        }
      ]
    },
    {
      "cell_type": "code",
      "metadata": {
        "id": "kj1hnFAR1s5w",
        "colab": {
          "base_uri": "https://localhost:8080/"
        },
        "outputId": "0210da3f-dbd4-4920-97ca-cb05303f26e1"
      },
      "source": [
        "print(y_test)"
      ],
      "execution_count": 35,
      "outputs": [
        {
          "output_type": "stream",
          "name": "stdout",
          "text": [
            "[1 0 1 1 1 0 0 0 1 0 0 1 1 1 1]\n"
          ]
        }
      ]
    },
    {
      "cell_type": "markdown",
      "metadata": {
        "id": "kW3c7UYih0hT"
      },
      "source": [
        "## Feature Scaling."
      ]
    },
    {
      "cell_type": "code",
      "metadata": {
        "id": "9fQlDPKCh8sc"
      },
      "source": [
        "from sklearn.preprocessing import StandardScaler\n",
        "sc = StandardScaler()\n",
        "X_train = sc.fit_transform(X_train)\n",
        "X_test = sc.transform(X_test)"
      ],
      "execution_count": 36,
      "outputs": []
    },
    {
      "cell_type": "code",
      "metadata": {
        "id": "syrnD1Op2BSR",
        "colab": {
          "base_uri": "https://localhost:8080/"
        },
        "outputId": "14396846-4493-4741-b470-ff99cb149520"
      },
      "source": [
        "print(X_train)"
      ],
      "execution_count": 37,
      "outputs": [
        {
          "output_type": "stream",
          "name": "stdout",
          "text": [
            "[[-1.35795033  0.7880421 ]\n",
            " [-1.30418891 -0.74593298]\n",
            " [-0.92785894 -1.76858303]\n",
            " [-0.41712541 -0.74593298]\n",
            " [ 0.63122237  0.27671707]\n",
            " [ 0.20113098  0.7880421 ]\n",
            " [-1.11602392 -0.74593298]\n",
            " [ 1.27635947  1.29936712]\n",
            " [ 2.10966155  0.27671707]\n",
            " [ 3.50745858  0.7880421 ]\n",
            " [-0.175199    1.29936712]\n",
            " [ 0.33553454 -0.74593298]\n",
            " [ 0.09360813  0.27671707]\n",
            " [-0.30960256 -0.23460795]\n",
            " [ 0.92691021  1.29936712]\n",
            " [-0.33648327  0.7880421 ]\n",
            " [ 0.57746095 -1.76858303]\n",
            " [-0.49776754 -0.23460795]\n",
            " [ 0.71186451  0.7880421 ]\n",
            " [-0.14831828 -0.74593298]\n",
            " [-0.36336398  0.27671707]\n",
            " [-0.82033609 -1.76858303]\n",
            " [-0.52464825  0.7880421 ]\n",
            " [-1.41171176  0.7880421 ]\n",
            " [-0.49776754 -1.76858303]\n",
            " [ 0.76562593  0.7880421 ]\n",
            " [-0.55152897 -1.25725801]\n",
            " [-0.09455686  1.29936712]\n",
            " [ 1.41076303  0.27671707]\n",
            " [-0.57840968  0.7880421 ]\n",
            " [-1.38483105  1.29936712]\n",
            " [-0.57840968  0.7880421 ]\n",
            " [-0.60529039 -1.25725801]\n",
            " [ 0.20113098 -1.25725801]\n",
            " [ 2.10966155 -0.74593298]\n",
            " [-0.36336398 -1.25725801]\n",
            " [-0.30960256  0.27671707]\n",
            " [-0.30960256 -0.23460795]\n",
            " [-1.0622625   1.29936712]\n",
            " [ 0.57746095 -1.25725801]\n",
            " [ 0.55058024 -0.74593298]\n",
            " [-0.57840968 -0.23460795]\n",
            " [ 0.57746095  0.27671707]\n",
            " [-0.09455686  0.7880421 ]\n",
            " [-0.90097823 -0.23460795]\n",
            " [-1.38483105 -1.25725801]\n",
            " [ 0.87314878  1.29936712]\n",
            " [ 0.38929596  0.7880421 ]\n",
            " [-0.36336398 -0.74593298]\n",
            " [-0.57840968 -1.25725801]\n",
            " [ 0.28177311 -0.23460795]\n",
            " [-0.06767615  1.29936712]\n",
            " [-0.57840968  1.29936712]\n",
            " [-0.52464825 -0.23460795]\n",
            " [ 0.41617667  0.7880421 ]\n",
            " [ 0.57746095  0.27671707]\n",
            " [ 1.94837727  0.27671707]\n",
            " [-0.68593253  0.7880421 ]\n",
            " [-0.12143757  0.7880421 ]\n",
            " [-0.6321711   0.7880421 ]\n",
            " [-0.22896042 -1.76858303]\n",
            " [ 0.57746095 -0.74593298]\n",
            " [ 0.0398467  -1.25725801]\n",
            " [-0.175199    0.7880421 ]\n",
            " [-0.57840968 -1.76858303]\n",
            " [ 0.84626807  0.7880421 ]\n",
            " [ 0.73874522 -0.23460795]\n",
            " [-1.11602392 -2.27990806]\n",
            " [ 2.53975294  1.29936712]\n",
            " [-0.22896042 -1.25725801]\n",
            " [-1.19666606 -0.23460795]\n",
            " [-0.49776754  0.7880421 ]\n",
            " [ 0.90002949  0.7880421 ]\n",
            " [-0.30960256  1.29936712]\n",
            " [-0.57840968  0.27671707]\n",
            " [ 2.48599152 -1.25725801]\n",
            " [ 1.5720473  -0.23460795]\n",
            " [-1.43859247 -0.23460795]\n",
            " [-0.49776754 -1.76858303]\n",
            " [ 0.57746095  0.7880421 ]\n",
            " [-1.41171176  1.29936712]\n",
            " [-1.46547318 -0.23460795]\n",
            " [-0.57840968  0.7880421 ]\n",
            " [-0.22896042  1.29936712]\n",
            " [ 1.76021229 -0.23460795]]\n"
          ]
        }
      ]
    },
    {
      "cell_type": "code",
      "metadata": {
        "id": "JUd6iBRp2C3L",
        "colab": {
          "base_uri": "https://localhost:8080/"
        },
        "outputId": "4cf57a8f-a32c-4917-ce22-d24c822e74c9"
      },
      "source": [
        "print(X_test)"
      ],
      "execution_count": 38,
      "outputs": [
        {
          "output_type": "stream",
          "name": "stdout",
          "text": [
            "[[-0.57840968 -0.23460795]\n",
            " [ 1.94837727  0.27671707]\n",
            " [-0.92785894  0.27671707]\n",
            " [ 2.37846867 -1.76858303]\n",
            " [-1.43859247 -1.76858303]\n",
            " [ 1.787093    0.7880421 ]\n",
            " [-0.57840968 -1.76858303]\n",
            " [-0.57840968  1.29936712]\n",
            " [-0.87409751  0.27671707]\n",
            " [-0.49776754  1.29936712]\n",
            " [ 0.57746095  0.27671707]\n",
            " [ 0.57746095  0.7880421 ]\n",
            " [-0.60529039  0.27671707]\n",
            " [-0.57840968 -0.23460795]\n",
            " [ 0.12048884 -0.74593298]]\n"
          ]
        }
      ]
    },
    {
      "cell_type": "markdown",
      "metadata": {
        "id": "bb6jCOCQiAmP"
      },
      "source": [
        "## Training the model."
      ]
    },
    {
      "cell_type": "code",
      "metadata": {
        "id": "e0pFVAmciHQs",
        "colab": {
          "base_uri": "https://localhost:8080/",
          "height": 74
        },
        "outputId": "7169fd10-7a66-4fbd-da42-9f779f983d70"
      },
      "source": [
        "from sklearn.tree import DecisionTreeClassifier\n",
        "classifier = DecisionTreeClassifier(criterion = 'entropy', splitter = 'best', max_features = 2 )\n",
        "classifier.fit(X_train, y_train)"
      ],
      "execution_count": 39,
      "outputs": [
        {
          "output_type": "execute_result",
          "data": {
            "text/plain": [
              "DecisionTreeClassifier(criterion='entropy', max_features=2)"
            ],
            "text/html": [
              "<style>#sk-container-id-2 {color: black;background-color: white;}#sk-container-id-2 pre{padding: 0;}#sk-container-id-2 div.sk-toggleable {background-color: white;}#sk-container-id-2 label.sk-toggleable__label {cursor: pointer;display: block;width: 100%;margin-bottom: 0;padding: 0.3em;box-sizing: border-box;text-align: center;}#sk-container-id-2 label.sk-toggleable__label-arrow:before {content: \"▸\";float: left;margin-right: 0.25em;color: #696969;}#sk-container-id-2 label.sk-toggleable__label-arrow:hover:before {color: black;}#sk-container-id-2 div.sk-estimator:hover label.sk-toggleable__label-arrow:before {color: black;}#sk-container-id-2 div.sk-toggleable__content {max-height: 0;max-width: 0;overflow: hidden;text-align: left;background-color: #f0f8ff;}#sk-container-id-2 div.sk-toggleable__content pre {margin: 0.2em;color: black;border-radius: 0.25em;background-color: #f0f8ff;}#sk-container-id-2 input.sk-toggleable__control:checked~div.sk-toggleable__content {max-height: 200px;max-width: 100%;overflow: auto;}#sk-container-id-2 input.sk-toggleable__control:checked~label.sk-toggleable__label-arrow:before {content: \"▾\";}#sk-container-id-2 div.sk-estimator input.sk-toggleable__control:checked~label.sk-toggleable__label {background-color: #d4ebff;}#sk-container-id-2 div.sk-label input.sk-toggleable__control:checked~label.sk-toggleable__label {background-color: #d4ebff;}#sk-container-id-2 input.sk-hidden--visually {border: 0;clip: rect(1px 1px 1px 1px);clip: rect(1px, 1px, 1px, 1px);height: 1px;margin: -1px;overflow: hidden;padding: 0;position: absolute;width: 1px;}#sk-container-id-2 div.sk-estimator {font-family: monospace;background-color: #f0f8ff;border: 1px dotted black;border-radius: 0.25em;box-sizing: border-box;margin-bottom: 0.5em;}#sk-container-id-2 div.sk-estimator:hover {background-color: #d4ebff;}#sk-container-id-2 div.sk-parallel-item::after {content: \"\";width: 100%;border-bottom: 1px solid gray;flex-grow: 1;}#sk-container-id-2 div.sk-label:hover label.sk-toggleable__label {background-color: #d4ebff;}#sk-container-id-2 div.sk-serial::before {content: \"\";position: absolute;border-left: 1px solid gray;box-sizing: border-box;top: 0;bottom: 0;left: 50%;z-index: 0;}#sk-container-id-2 div.sk-serial {display: flex;flex-direction: column;align-items: center;background-color: white;padding-right: 0.2em;padding-left: 0.2em;position: relative;}#sk-container-id-2 div.sk-item {position: relative;z-index: 1;}#sk-container-id-2 div.sk-parallel {display: flex;align-items: stretch;justify-content: center;background-color: white;position: relative;}#sk-container-id-2 div.sk-item::before, #sk-container-id-2 div.sk-parallel-item::before {content: \"\";position: absolute;border-left: 1px solid gray;box-sizing: border-box;top: 0;bottom: 0;left: 50%;z-index: -1;}#sk-container-id-2 div.sk-parallel-item {display: flex;flex-direction: column;z-index: 1;position: relative;background-color: white;}#sk-container-id-2 div.sk-parallel-item:first-child::after {align-self: flex-end;width: 50%;}#sk-container-id-2 div.sk-parallel-item:last-child::after {align-self: flex-start;width: 50%;}#sk-container-id-2 div.sk-parallel-item:only-child::after {width: 0;}#sk-container-id-2 div.sk-dashed-wrapped {border: 1px dashed gray;margin: 0 0.4em 0.5em 0.4em;box-sizing: border-box;padding-bottom: 0.4em;background-color: white;}#sk-container-id-2 div.sk-label label {font-family: monospace;font-weight: bold;display: inline-block;line-height: 1.2em;}#sk-container-id-2 div.sk-label-container {text-align: center;}#sk-container-id-2 div.sk-container {/* jupyter's `normalize.less` sets `[hidden] { display: none; }` but bootstrap.min.css set `[hidden] { display: none !important; }` so we also need the `!important` here to be able to override the default hidden behavior on the sphinx rendered scikit-learn.org. See: https://github.com/scikit-learn/scikit-learn/issues/21755 */display: inline-block !important;position: relative;}#sk-container-id-2 div.sk-text-repr-fallback {display: none;}</style><div id=\"sk-container-id-2\" class=\"sk-top-container\"><div class=\"sk-text-repr-fallback\"><pre>DecisionTreeClassifier(criterion=&#x27;entropy&#x27;, max_features=2)</pre><b>In a Jupyter environment, please rerun this cell to show the HTML representation or trust the notebook. <br />On GitHub, the HTML representation is unable to render, please try loading this page with nbviewer.org.</b></div><div class=\"sk-container\" hidden><div class=\"sk-item\"><div class=\"sk-estimator sk-toggleable\"><input class=\"sk-toggleable__control sk-hidden--visually\" id=\"sk-estimator-id-2\" type=\"checkbox\" checked><label for=\"sk-estimator-id-2\" class=\"sk-toggleable__label sk-toggleable__label-arrow\">DecisionTreeClassifier</label><div class=\"sk-toggleable__content\"><pre>DecisionTreeClassifier(criterion=&#x27;entropy&#x27;, max_features=2)</pre></div></div></div></div></div>"
            ]
          },
          "metadata": {},
          "execution_count": 39
        }
      ]
    },
    {
      "cell_type": "markdown",
      "metadata": {
        "id": "yyxW5b395mR2"
      },
      "source": [
        "## Predicting a new result."
      ]
    },
    {
      "cell_type": "code",
      "metadata": {
        "id": "f8YOXsQy58rP",
        "colab": {
          "base_uri": "https://localhost:8080/"
        },
        "outputId": "67246399-24e1-4279-a1a4-736f4b907923"
      },
      "source": [
        "print(classifier.predict(sc.transform([[101,9]])))"
      ],
      "execution_count": 40,
      "outputs": [
        {
          "output_type": "stream",
          "name": "stdout",
          "text": [
            "[1]\n"
          ]
        }
      ]
    },
    {
      "cell_type": "markdown",
      "metadata": {
        "id": "vKYVQH-l5NpE"
      },
      "source": [
        "## Predicting the Test set results."
      ]
    },
    {
      "cell_type": "code",
      "metadata": {
        "id": "p6VMTb2O4hwM",
        "colab": {
          "base_uri": "https://localhost:8080/"
        },
        "outputId": "c7705b53-e29f-4f3e-ac6f-870fd58d6690"
      },
      "source": [
        "y_pred = classifier.predict(X_test)\n",
        "print(np.concatenate((y_pred.reshape(len(y_pred),1), y_test.reshape(len(y_test),1)),1))"
      ],
      "execution_count": 41,
      "outputs": [
        {
          "output_type": "stream",
          "name": "stdout",
          "text": [
            "[[1 1]\n",
            " [0 0]\n",
            " [1 1]\n",
            " [1 1]\n",
            " [1 1]\n",
            " [1 0]\n",
            " [0 0]\n",
            " [0 0]\n",
            " [1 1]\n",
            " [0 0]\n",
            " [0 0]\n",
            " [1 1]\n",
            " [1 1]\n",
            " [1 1]\n",
            " [1 1]]\n"
          ]
        }
      ]
    },
    {
      "cell_type": "markdown",
      "metadata": {
        "id": "h4Hwj34ziWQW"
      },
      "source": [
        "## Making the Confusion Matrix."
      ]
    },
    {
      "cell_type": "code",
      "metadata": {
        "id": "D6bpZwUiiXic",
        "colab": {
          "base_uri": "https://localhost:8080/"
        },
        "outputId": "f08fac4e-8abd-4c81-da59-18d4e42004b9"
      },
      "source": [
        "from sklearn.metrics import confusion_matrix, accuracy_score\n",
        "cm = confusion_matrix(y_test, y_pred)\n",
        "print(cm)\n",
        "accuracy_score(y_test, y_pred)"
      ],
      "execution_count": 42,
      "outputs": [
        {
          "output_type": "stream",
          "name": "stdout",
          "text": [
            "[[5 1]\n",
            " [0 9]]\n"
          ]
        },
        {
          "output_type": "execute_result",
          "data": {
            "text/plain": [
              "0.9333333333333333"
            ]
          },
          "metadata": {},
          "execution_count": 42
        }
      ]
    },
    {
      "cell_type": "markdown",
      "metadata": {
        "id": "6OMC_P0diaoD"
      },
      "source": [
        "## Visualising the Training set results."
      ]
    },
    {
      "cell_type": "code",
      "metadata": {
        "id": "_NOjKvZRid5l",
        "colab": {
          "base_uri": "https://localhost:8080/",
          "height": 350
        },
        "outputId": "e01c1d31-6caf-4ae3-ddd5-6b63c5992f17"
      },
      "source": [
        "from matplotlib.colors import ListedColormap\n",
        "X_set, y_set = sc.inverse_transform(X_train), y_train\n",
        "X1, X2 = np.meshgrid(np.arange(start = X_set[:, 0].min() - 10, stop = X_set[:, 0].max() + 10, step = 0.25),\n",
        "                     np.arange(start = X_set[:, 1].min() - 10, stop = X_set[:, 1].max() + 10, step = 0.25))\n",
        "plt.contourf(X1, X2, classifier.predict(sc.transform(np.array([X1.ravel(), X2.ravel()]).T)).reshape(X1.shape),\n",
        "             alpha = 0.75, cmap = ListedColormap(('red', 'green')))\n",
        "plt.xlim(X1.min(), X1.max())\n",
        "plt.ylim(X2.min(), X2.max())\n",
        "for i, j in enumerate(np.unique(y_set)):\n",
        "    plt.scatter(X_set[y_set == j, 0], X_set[y_set == j, 1], c = ListedColormap(('red', 'green'))(i), label = j)\n",
        "plt.title('Local Refrigeration (Training set)')\n",
        "plt.xlabel('Allocation Energetique (Kwh)')\n",
        "plt.ylabel('Criticité')\n",
        "plt.legend()\n",
        "plt.show()"
      ],
      "execution_count": 43,
      "outputs": [
        {
          "output_type": "stream",
          "name": "stderr",
          "text": [
            "<ipython-input-43-2c666f357c5b>:10: UserWarning: *c* argument looks like a single numeric RGB or RGBA sequence, which should be avoided as value-mapping will have precedence in case its length matches with *x* & *y*.  Please use the *color* keyword-argument or provide a 2D array with a single row if you intend to specify the same RGB or RGBA value for all points.\n",
            "  plt.scatter(X_set[y_set == j, 0], X_set[y_set == j, 1], c = ListedColormap(('red', 'green'))(i), label = j)\n"
          ]
        },
        {
          "output_type": "display_data",
          "data": {
            "text/plain": [
              "<Figure size 432x288 with 1 Axes>"
            ],
            "image/png": "[encoded data removed]"
          },
          "metadata": {
            "needs_background": "light"
          }
        }
      ]
    },
    {
      "cell_type": "markdown",
      "metadata": {
        "id": "SZ-j28aPihZx"
      },
      "source": [
        "## Visualising the Test set results."
      ]
    },
    {
      "cell_type": "code",
      "metadata": {
        "id": "qeTjz2vDilAC",
        "colab": {
          "base_uri": "https://localhost:8080/",
          "height": 350
        },
        "outputId": "a67da45c-3f13-4624-93f8-2d6b9ffe7e30"
      },
      "source": [
        "from matplotlib.colors import ListedColormap\n",
        "X_set, y_set = sc.inverse_transform(X_test), y_test\n",
        "X1, X2 = np.meshgrid(np.arange(start = X_set[:, 0].min() - 10, stop = X_set[:, 0].max() + 10, step = 0.25),\n",
        "                     np.arange(start = X_set[:, 1].min() - 10, stop = X_set[:, 1].max() + 10, step = 0.25))\n",
        "plt.contourf(X1, X2, classifier.predict(sc.transform(np.array([X1.ravel(), X2.ravel()]).T)).reshape(X1.shape),\n",
        "             alpha = 0.75, cmap = ListedColormap(('red', 'green')))\n",
        "plt.xlim(X1.min(), X1.max())\n",
        "plt.ylim(X2.min(), X2.max())\n",
        "for i, j in enumerate(np.unique(y_set)):\n",
        "    plt.scatter(X_set[y_set == j, 0], X_set[y_set == j, 1], c = ListedColormap(('red', 'green'))(i), label = j)\n",
        "plt.title('Local Refrigeration (Test set)')\n",
        "plt.xlabel('Allocation Energetique (Kwh)')\n",
        "plt.ylabel('Criticité')\n",
        "plt.legend()\n",
        "plt.show()"
      ],
      "execution_count": 44,
      "outputs": [
        {
          "output_type": "stream",
          "name": "stderr",
          "text": [
            "<ipython-input-44-baabbbd473ba>:10: UserWarning: *c* argument looks like a single numeric RGB or RGBA sequence, which should be avoided as value-mapping will have precedence in case its length matches with *x* & *y*.  Please use the *color* keyword-argument or provide a 2D array with a single row if you intend to specify the same RGB or RGBA value for all points.\n",
            "  plt.scatter(X_set[y_set == j, 0], X_set[y_set == j, 1], c = ListedColormap(('red', 'green'))(i), label = j)\n"
          ]
        },
        {
          "output_type": "display_data",
          "data": {
            "text/plain": [
              "<Figure size 432x288 with 1 Axes>"
            ],
            "image/png": "[encoded data removed]"
          },
          "metadata": {
            "needs_background": "light"
          }
        }
      ]
    }
  ]
}