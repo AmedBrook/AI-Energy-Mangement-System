{
  "cells": [
    {
      "attachments": {},
      "cell_type": "markdown",
      "metadata": {
        "id": "0MRC0e0KhQ0S"
      },
      "source": [
<<<<<<< HEAD
        "## IEMS v0.1.5"
=======
        "## IEMS v0.1.4"
>>>>>>> cce9fa780fbf05920f1ece1b4c434a8df4ff8a5c
      ]
    },
    {
      "attachments": {},
      "cell_type": "markdown",
      "metadata": {
        "id": "LWd1UlMnhT2s"
      },
      "source": [
        "### Importing the libraries."
      ]
    },
    {
      "cell_type": "code",
      "execution_count": 10,
      "metadata": {
        "id": "YvGPUQaHhXfL"
      },
      "outputs": [],
      "source": [
        "import numpy as np\n",
        "import matplotlib.pyplot as plt\n",
        "import pandas as pd\n",
        "import tensorflow as tf\n",
        "import random as python_random"
      ]
    },
    {
      "cell_type": "code",
      "execution_count": 11,
      "metadata": {
        "id": "FX6QvwfZFsaV"
      },
      "outputs": [],
      "source": [
        "np.random.seed(123)\n",
        "python_random.seed(123)\n",
        "tf.random.set_seed(123)"
      ]
    },
    {
      "attachments": {},
      "cell_type": "markdown",
      "metadata": {
        "id": "K1VMqkGvhc3-"
      },
      "source": [
        "### Importing the dataset for 'Local Refregiration'. "
      ]
    },
    {
      "cell_type": "code",
      "execution_count": 12,
      "metadata": {
        "id": "M52QDmyzhh9s"
      },
      "outputs": [],
      "source": [
        "dataset = pd.read_csv('../datasets/processed/L_Refreg.csv')\n",
        "X = dataset.iloc[:, :-1].values\n",
        "y = dataset.iloc[:, -1].values"
      ]
    },
    {
      "attachments": {},
      "cell_type": "markdown",
      "metadata": {
        "id": "YvxIPVyMhmKp"
      },
      "source": [
        "### Splitting the dataset into the Training set and Test set."
      ]
    },
    {
      "cell_type": "code",
      "execution_count": 13,
      "metadata": {
        "id": "AVzJWAXIhxoC"
      },
      "outputs": [],
      "source": [
        "from sklearn.model_selection import train_test_split\n",
        "X_train, X_test, y_train, y_test = train_test_split(X, y, test_size = 0.15, random_state = 11)\n"
      ]
    },
    {
      "cell_type": "code",
      "execution_count": 14,
      "metadata": {
        "colab": {
          "base_uri": "https://localhost:8080/"
        },
        "id": "P3nS3-6r1i2B",
        "outputId": "6b25fd0e-f5e7-4b8e-a29c-21b9a486be97"
      },
      "outputs": [
        {
          "name": "stdout",
          "output_type": "stream",
          "text": [
            "[[ 17   9]\n",
            " [ 19   6]\n",
            " [ 33   4]\n",
            " [ 52   6]\n",
            " [ 91   8]\n",
            " [ 75   9]\n",
            " [ 26   6]\n",
            " [115  10]\n",
            " [146   8]\n",
            " [198   9]\n",
            " [ 61  10]\n",
            " [ 80   6]\n",
            " [ 71   8]\n",
            " [ 56   7]\n",
            " [102  10]\n",
            " [ 55   9]\n",
            " [ 89   4]\n",
            " [ 49   7]\n",
            " [ 94   9]\n",
            " [ 62   6]\n",
            " [ 54   8]\n",
            " [ 37   4]\n",
            " [ 48   9]\n",
            " [ 15   9]\n",
            " [ 49   4]\n",
            " [ 96   9]\n",
            " [ 47   5]\n",
            " [ 64  10]\n",
            " [120   8]\n",
            " [ 46   9]\n",
            " [ 16  10]\n",
            " [ 46   9]\n",
            " [ 45   5]\n",
            " [ 75   5]\n",
            " [146   6]\n",
            " [ 54   5]\n",
            " [ 56   8]\n",
            " [ 56   7]\n",
            " [ 28  10]\n",
            " [ 89   5]\n",
            " [ 88   6]\n",
            " [ 46   7]\n",
            " [ 89   8]\n",
            " [ 64   9]\n",
            " [ 34   7]\n",
            " [ 16   5]\n",
            " [100  10]\n",
            " [ 82   9]\n",
            " [ 54   6]\n",
            " [ 46   5]\n",
            " [ 78   7]\n",
            " [ 65  10]\n",
            " [ 46  10]\n",
            " [ 48   7]\n",
            " [ 83   9]\n",
            " [ 89   8]\n",
            " [140   8]\n",
            " [ 42   9]\n",
            " [ 63   9]\n",
            " [ 44   9]\n",
            " [ 59   4]\n",
            " [ 89   6]\n",
            " [ 69   5]\n",
            " [ 61   9]\n",
            " [ 46   4]\n",
            " [ 99   9]\n",
            " [ 95   7]\n",
            " [ 26   3]\n",
            " [162  10]\n",
            " [ 59   5]\n",
            " [ 23   7]\n",
            " [ 49   9]\n",
            " [101   9]\n",
            " [ 56  10]\n",
            " [ 46   8]\n",
            " [160   5]\n",
            " [126   7]\n",
            " [ 14   7]\n",
            " [ 49   4]\n",
            " [ 89   9]\n",
            " [ 15  10]\n",
            " [ 13   7]\n",
            " [ 46   9]\n",
            " [ 59  10]\n",
            " [133   7]]\n"
          ]
        }
      ],
      "source": [
        "print(X_train)"
      ]
    },
    {
      "cell_type": "code",
      "execution_count": 15,
      "metadata": {
        "colab": {
          "base_uri": "https://localhost:8080/"
        },
        "id": "8dpDLojm1mVG",
        "outputId": "fbfb58fb-dc8c-4c9c-8e7f-26db46b95fdd"
      },
      "outputs": [
        {
          "name": "stdout",
          "output_type": "stream",
          "text": [
            "[0 1 1 0 1 0 1 0 0 0 0 1 1 1 1 0 1 0 1 1 1 0 1 1 1 1 1 1 0 1 1 1 1 0 0 1 0\n",
            " 1 1 0 0 1 0 0 1 1 1 0 0 0 1 1 0 0 0 0 0 1 1 0 0 1 1 1 0 1 0 1 1 1 0 0 1 1\n",
            " 1 1 1 1 0 1 0 1 0 1 1]\n"
          ]
        }
      ],
      "source": [
        "print(y_train)"
      ]
    },
    {
      "cell_type": "code",
      "execution_count": 16,
      "metadata": {
        "colab": {
          "base_uri": "https://localhost:8080/"
        },
        "id": "qbb7i0DH1qui",
        "outputId": "5a2a1e24-de39-43bb-8bd2-0e99fb78400f"
      },
      "outputs": [
        {
          "name": "stdout",
          "output_type": "stream",
          "text": [
            "[[ 46   7]\n",
            " [140   8]\n",
            " [ 33   8]\n",
            " [156   4]\n",
            " [ 14   4]\n",
            " [134   9]\n",
            " [ 46   4]\n",
            " [ 46  10]\n",
            " [ 35   8]\n",
            " [ 49  10]\n",
            " [ 89   8]\n",
            " [ 89   9]\n",
            " [ 45   8]\n",
            " [ 46   7]\n",
            " [ 72   6]]\n"
          ]
        }
      ],
      "source": [
        "print(X_test)"
      ]
    },
    {
      "cell_type": "code",
      "execution_count": 17,
      "metadata": {
        "colab": {
          "base_uri": "https://localhost:8080/"
        },
        "id": "kj1hnFAR1s5w",
        "outputId": "0210da3f-dbd4-4920-97ca-cb05303f26e1"
      },
      "outputs": [
        {
          "name": "stdout",
          "output_type": "stream",
          "text": [
            "[1 0 1 1 1 0 0 0 1 0 0 1 1 1 1]\n"
          ]
        }
      ],
      "source": [
        "print(y_test)"
      ]
    },
    {
      "attachments": {},
      "cell_type": "markdown",
      "metadata": {
        "id": "kW3c7UYih0hT"
      },
      "source": [
        "### Feature Scaling."
      ]
    },
    {
      "cell_type": "code",
      "execution_count": 18,
      "metadata": {
        "id": "9fQlDPKCh8sc"
      },
      "outputs": [],
      "source": [
        "from sklearn.preprocessing import StandardScaler\n",
        "sc = StandardScaler()\n",
        "X_train = sc.fit_transform(X_train)\n",
        "X_test = sc.transform(X_test)"
      ]
    },
    {
      "cell_type": "code",
      "execution_count": 19,
      "metadata": {
        "colab": {
          "base_uri": "https://localhost:8080/"
        },
        "id": "syrnD1Op2BSR",
        "outputId": "14396846-4493-4741-b470-ff99cb149520"
      },
      "outputs": [
        {
          "name": "stdout",
          "output_type": "stream",
          "text": [
            "[[-1.35795033  0.7880421 ]\n",
            " [-1.30418891 -0.74593298]\n",
            " [-0.92785894 -1.76858303]\n",
            " [-0.41712541 -0.74593298]\n",
            " [ 0.63122237  0.27671707]\n",
            " [ 0.20113098  0.7880421 ]\n",
            " [-1.11602392 -0.74593298]\n",
            " [ 1.27635947  1.29936712]\n",
            " [ 2.10966155  0.27671707]\n",
            " [ 3.50745858  0.7880421 ]\n",
            " [-0.175199    1.29936712]\n",
            " [ 0.33553454 -0.74593298]\n",
            " [ 0.09360813  0.27671707]\n",
            " [-0.30960256 -0.23460795]\n",
            " [ 0.92691021  1.29936712]\n",
            " [-0.33648327  0.7880421 ]\n",
            " [ 0.57746095 -1.76858303]\n",
            " [-0.49776754 -0.23460795]\n",
            " [ 0.71186451  0.7880421 ]\n",
            " [-0.14831828 -0.74593298]\n",
            " [-0.36336398  0.27671707]\n",
            " [-0.82033609 -1.76858303]\n",
            " [-0.52464825  0.7880421 ]\n",
            " [-1.41171176  0.7880421 ]\n",
            " [-0.49776754 -1.76858303]\n",
            " [ 0.76562593  0.7880421 ]\n",
            " [-0.55152897 -1.25725801]\n",
            " [-0.09455686  1.29936712]\n",
            " [ 1.41076303  0.27671707]\n",
            " [-0.57840968  0.7880421 ]\n",
            " [-1.38483105  1.29936712]\n",
            " [-0.57840968  0.7880421 ]\n",
            " [-0.60529039 -1.25725801]\n",
            " [ 0.20113098 -1.25725801]\n",
            " [ 2.10966155 -0.74593298]\n",
            " [-0.36336398 -1.25725801]\n",
            " [-0.30960256  0.27671707]\n",
            " [-0.30960256 -0.23460795]\n",
            " [-1.0622625   1.29936712]\n",
            " [ 0.57746095 -1.25725801]\n",
            " [ 0.55058024 -0.74593298]\n",
            " [-0.57840968 -0.23460795]\n",
            " [ 0.57746095  0.27671707]\n",
            " [-0.09455686  0.7880421 ]\n",
            " [-0.90097823 -0.23460795]\n",
            " [-1.38483105 -1.25725801]\n",
            " [ 0.87314878  1.29936712]\n",
            " [ 0.38929596  0.7880421 ]\n",
            " [-0.36336398 -0.74593298]\n",
            " [-0.57840968 -1.25725801]\n",
            " [ 0.28177311 -0.23460795]\n",
            " [-0.06767615  1.29936712]\n",
            " [-0.57840968  1.29936712]\n",
            " [-0.52464825 -0.23460795]\n",
            " [ 0.41617667  0.7880421 ]\n",
            " [ 0.57746095  0.27671707]\n",
            " [ 1.94837727  0.27671707]\n",
            " [-0.68593253  0.7880421 ]\n",
            " [-0.12143757  0.7880421 ]\n",
            " [-0.6321711   0.7880421 ]\n",
            " [-0.22896042 -1.76858303]\n",
            " [ 0.57746095 -0.74593298]\n",
            " [ 0.0398467  -1.25725801]\n",
            " [-0.175199    0.7880421 ]\n",
            " [-0.57840968 -1.76858303]\n",
            " [ 0.84626807  0.7880421 ]\n",
            " [ 0.73874522 -0.23460795]\n",
            " [-1.11602392 -2.27990806]\n",
            " [ 2.53975294  1.29936712]\n",
            " [-0.22896042 -1.25725801]\n",
            " [-1.19666606 -0.23460795]\n",
            " [-0.49776754  0.7880421 ]\n",
            " [ 0.90002949  0.7880421 ]\n",
            " [-0.30960256  1.29936712]\n",
            " [-0.57840968  0.27671707]\n",
            " [ 2.48599152 -1.25725801]\n",
            " [ 1.5720473  -0.23460795]\n",
            " [-1.43859247 -0.23460795]\n",
            " [-0.49776754 -1.76858303]\n",
            " [ 0.57746095  0.7880421 ]\n",
            " [-1.41171176  1.29936712]\n",
            " [-1.46547318 -0.23460795]\n",
            " [-0.57840968  0.7880421 ]\n",
            " [-0.22896042  1.29936712]\n",
            " [ 1.76021229 -0.23460795]]\n"
          ]
        }
      ],
      "source": [
        "print(X_train)"
      ]
    },
    {
      "cell_type": "code",
      "execution_count": 20,
      "metadata": {
        "colab": {
          "base_uri": "https://localhost:8080/"
        },
        "id": "JUd6iBRp2C3L",
        "outputId": "4cf57a8f-a32c-4917-ce22-d24c822e74c9"
      },
      "outputs": [
        {
          "name": "stdout",
          "output_type": "stream",
          "text": [
            "[[-0.57840968 -0.23460795]\n",
            " [ 1.94837727  0.27671707]\n",
            " [-0.92785894  0.27671707]\n",
            " [ 2.37846867 -1.76858303]\n",
            " [-1.43859247 -1.76858303]\n",
            " [ 1.787093    0.7880421 ]\n",
            " [-0.57840968 -1.76858303]\n",
            " [-0.57840968  1.29936712]\n",
            " [-0.87409751  0.27671707]\n",
            " [-0.49776754  1.29936712]\n",
            " [ 0.57746095  0.27671707]\n",
            " [ 0.57746095  0.7880421 ]\n",
            " [-0.60529039  0.27671707]\n",
            " [-0.57840968 -0.23460795]\n",
            " [ 0.12048884 -0.74593298]]\n"
          ]
        }
      ],
      "source": [
        "print(X_test)"
      ]
    },
    {
      "attachments": {},
      "cell_type": "markdown",
      "metadata": {
        "id": "bb6jCOCQiAmP"
      },
      "source": [
        "### Training the model."
      ]
    },
    {
      "cell_type": "code",
      "execution_count": 21,
      "metadata": {
        "colab": {
          "base_uri": "https://localhost:8080/",
          "height": 74
        },
        "id": "e0pFVAmciHQs",
        "outputId": "7169fd10-7a66-4fbd-da42-9f779f983d70"
      },
      "outputs": [
        {
          "data": {
            "text/html": [
              "<style>#sk-container-id-1 {color: black;background-color: white;}#sk-container-id-1 pre{padding: 0;}#sk-container-id-1 div.sk-toggleable {background-color: white;}#sk-container-id-1 label.sk-toggleable__label {cursor: pointer;display: block;width: 100%;margin-bottom: 0;padding: 0.3em;box-sizing: border-box;text-align: center;}#sk-container-id-1 label.sk-toggleable__label-arrow:before {content: \"▸\";float: left;margin-right: 0.25em;color: #696969;}#sk-container-id-1 label.sk-toggleable__label-arrow:hover:before {color: black;}#sk-container-id-1 div.sk-estimator:hover label.sk-toggleable__label-arrow:before {color: black;}#sk-container-id-1 div.sk-toggleable__content {max-height: 0;max-width: 0;overflow: hidden;text-align: left;background-color: #f0f8ff;}#sk-container-id-1 div.sk-toggleable__content pre {margin: 0.2em;color: black;border-radius: 0.25em;background-color: #f0f8ff;}#sk-container-id-1 input.sk-toggleable__control:checked~div.sk-toggleable__content {max-height: 200px;max-width: 100%;overflow: auto;}#sk-container-id-1 input.sk-toggleable__control:checked~label.sk-toggleable__label-arrow:before {content: \"▾\";}#sk-container-id-1 div.sk-estimator input.sk-toggleable__control:checked~label.sk-toggleable__label {background-color: #d4ebff;}#sk-container-id-1 div.sk-label input.sk-toggleable__control:checked~label.sk-toggleable__label {background-color: #d4ebff;}#sk-container-id-1 input.sk-hidden--visually {border: 0;clip: rect(1px 1px 1px 1px);clip: rect(1px, 1px, 1px, 1px);height: 1px;margin: -1px;overflow: hidden;padding: 0;position: absolute;width: 1px;}#sk-container-id-1 div.sk-estimator {font-family: monospace;background-color: #f0f8ff;border: 1px dotted black;border-radius: 0.25em;box-sizing: border-box;margin-bottom: 0.5em;}#sk-container-id-1 div.sk-estimator:hover {background-color: #d4ebff;}#sk-container-id-1 div.sk-parallel-item::after {content: \"\";width: 100%;border-bottom: 1px solid gray;flex-grow: 1;}#sk-container-id-1 div.sk-label:hover label.sk-toggleable__label {background-color: #d4ebff;}#sk-container-id-1 div.sk-serial::before {content: \"\";position: absolute;border-left: 1px solid gray;box-sizing: border-box;top: 0;bottom: 0;left: 50%;z-index: 0;}#sk-container-id-1 div.sk-serial {display: flex;flex-direction: column;align-items: center;background-color: white;padding-right: 0.2em;padding-left: 0.2em;position: relative;}#sk-container-id-1 div.sk-item {position: relative;z-index: 1;}#sk-container-id-1 div.sk-parallel {display: flex;align-items: stretch;justify-content: center;background-color: white;position: relative;}#sk-container-id-1 div.sk-item::before, #sk-container-id-1 div.sk-parallel-item::before {content: \"\";position: absolute;border-left: 1px solid gray;box-sizing: border-box;top: 0;bottom: 0;left: 50%;z-index: -1;}#sk-container-id-1 div.sk-parallel-item {display: flex;flex-direction: column;z-index: 1;position: relative;background-color: white;}#sk-container-id-1 div.sk-parallel-item:first-child::after {align-self: flex-end;width: 50%;}#sk-container-id-1 div.sk-parallel-item:last-child::after {align-self: flex-start;width: 50%;}#sk-container-id-1 div.sk-parallel-item:only-child::after {width: 0;}#sk-container-id-1 div.sk-dashed-wrapped {border: 1px dashed gray;margin: 0 0.4em 0.5em 0.4em;box-sizing: border-box;padding-bottom: 0.4em;background-color: white;}#sk-container-id-1 div.sk-label label {font-family: monospace;font-weight: bold;display: inline-block;line-height: 1.2em;}#sk-container-id-1 div.sk-label-container {text-align: center;}#sk-container-id-1 div.sk-container {/* jupyter's `normalize.less` sets `[hidden] { display: none; }` but bootstrap.min.css set `[hidden] { display: none !important; }` so we also need the `!important` here to be able to override the default hidden behavior on the sphinx rendered scikit-learn.org. See: https://github.com/scikit-learn/scikit-learn/issues/21755 */display: inline-block !important;position: relative;}#sk-container-id-1 div.sk-text-repr-fallback {display: none;}</style><div id=\"sk-container-id-1\" class=\"sk-top-container\"><div class=\"sk-text-repr-fallback\"><pre>DecisionTreeClassifier(criterion=&#x27;entropy&#x27;, max_features=2)</pre><b>In a Jupyter environment, please rerun this cell to show the HTML representation or trust the notebook. <br />On GitHub, the HTML representation is unable to render, please try loading this page with nbviewer.org.</b></div><div class=\"sk-container\" hidden><div class=\"sk-item\"><div class=\"sk-estimator sk-toggleable\"><input class=\"sk-toggleable__control sk-hidden--visually\" id=\"sk-estimator-id-1\" type=\"checkbox\" checked><label for=\"sk-estimator-id-1\" class=\"sk-toggleable__label sk-toggleable__label-arrow\">DecisionTreeClassifier</label><div class=\"sk-toggleable__content\"><pre>DecisionTreeClassifier(criterion=&#x27;entropy&#x27;, max_features=2)</pre></div></div></div></div></div>"
            ],
            "text/plain": [
              "DecisionTreeClassifier(criterion='entropy', max_features=2)"
            ]
          },
          "execution_count": 21,
          "metadata": {},
          "output_type": "execute_result"
        }
      ],
      "source": [
        "from sklearn.tree import DecisionTreeClassifier\n",
        "classifier = DecisionTreeClassifier(criterion = 'entropy', splitter = 'best', max_features = 2 )\n",
        "classifier.fit(X_train, y_train)"
      ]
    },
    {
      "attachments": {},
      "cell_type": "markdown",
      "metadata": {
        "id": "yyxW5b395mR2"
      },
      "source": [
        "### Predicting a new result."
      ]
    },
    {
      "cell_type": "code",
      "execution_count": 22,
      "metadata": {
        "colab": {
          "base_uri": "https://localhost:8080/"
        },
        "id": "f8YOXsQy58rP",
        "outputId": "67246399-24e1-4279-a1a4-736f4b907923"
      },
      "outputs": [
        {
          "name": "stdout",
          "output_type": "stream",
          "text": [
            "[1]\n"
          ]
        }
      ],
      "source": [
        "print(classifier.predict(sc.transform([[101,9]])))"
      ]
    },
    {
      "attachments": {},
      "cell_type": "markdown",
      "metadata": {
        "id": "vKYVQH-l5NpE"
      },
      "source": [
        "### Predicting the Test set results."
      ]
    },
    {
      "cell_type": "code",
      "execution_count": 23,
      "metadata": {
        "colab": {
          "base_uri": "https://localhost:8080/"
        },
        "id": "p6VMTb2O4hwM",
        "outputId": "c7705b53-e29f-4f3e-ac6f-870fd58d6690"
      },
      "outputs": [
        {
          "name": "stdout",
          "output_type": "stream",
          "text": [
            "[[1 1]\n",
            " [0 0]\n",
            " [1 1]\n",
            " [1 1]\n",
            " [1 1]\n",
            " [1 0]\n",
            " [0 0]\n",
            " [0 0]\n",
            " [1 1]\n",
            " [0 0]\n",
            " [0 0]\n",
            " [1 1]\n",
            " [1 1]\n",
            " [1 1]\n",
            " [1 1]]\n"
          ]
        }
      ],
      "source": [
        "y_pred = classifier.predict(X_test)\n",
        "print(np.concatenate((y_pred.reshape(len(y_pred),1), y_test.reshape(len(y_test),1)),1))"
      ]
    },
    {
      "attachments": {},
      "cell_type": "markdown",
      "metadata": {
        "id": "h4Hwj34ziWQW"
      },
      "source": [
        "### Making the Confusion Matrix."
      ]
    },
    {
      "cell_type": "code",
      "execution_count": 24,
      "metadata": {
        "colab": {
          "base_uri": "https://localhost:8080/"
        },
        "id": "D6bpZwUiiXic",
        "outputId": "f08fac4e-8abd-4c81-da59-18d4e42004b9"
      },
      "outputs": [
        {
          "name": "stdout",
          "output_type": "stream",
          "text": [
            "[[5 1]\n",
            " [0 9]]\n"
          ]
        },
        {
          "data": {
            "text/plain": [
              "0.9333333333333333"
            ]
          },
          "execution_count": 24,
          "metadata": {},
          "output_type": "execute_result"
        }
      ],
      "source": [
        "from sklearn.metrics import confusion_matrix, accuracy_score\n",
        "cm = confusion_matrix(y_test, y_pred)\n",
        "print(cm)\n",
        "accuracy_score(y_test, y_pred)"
      ]
    },
    {
      "attachments": {},
      "cell_type": "markdown",
      "metadata": {
        "id": "6OMC_P0diaoD"
      },
      "source": [
        "### Visualising the Training set results."
      ]
    },
    {
      "cell_type": "code",
      "execution_count": 25,
      "metadata": {
        "colab": {
          "base_uri": "https://localhost:8080/",
          "height": 350
        },
        "id": "_NOjKvZRid5l",
        "outputId": "e01c1d31-6caf-4ae3-ddd5-6b63c5992f17"
      },
      "outputs": [
        {
          "name": "stderr",
          "output_type": "stream",
          "text": [
            "*c* argument looks like a single numeric RGB or RGBA sequence, which should be avoided as value-mapping will have precedence in case its length matches with *x* & *y*.  Please use the *color* keyword-argument or provide a 2D array with a single row if you intend to specify the same RGB or RGBA value for all points.\n",
            "*c* argument looks like a single numeric RGB or RGBA sequence, which should be avoided as value-mapping will have precedence in case its length matches with *x* & *y*.  Please use the *color* keyword-argument or provide a 2D array with a single row if you intend to specify the same RGB or RGBA value for all points.\n"
          ]
        },
        {
          "data": {
            "image/png": "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",
            "text/plain": [
              "<Figure size 640x480 with 1 Axes>"
            ]
          },
          "metadata": {},
          "output_type": "display_data"
        }
      ],
      "source": [
        "from matplotlib.colors import ListedColormap\n",
        "X_set, y_set = sc.inverse_transform(X_train), y_train\n",
        "X1, X2 = np.meshgrid(np.arange(start = X_set[:, 0].min() - 10, stop = X_set[:, 0].max() + 10, step = 0.25),\n",
        "                     np.arange(start = X_set[:, 1].min() - 10, stop = X_set[:, 1].max() + 10, step = 0.25))\n",
        "plt.contourf(X1, X2, classifier.predict(sc.transform(np.array([X1.ravel(), X2.ravel()]).T)).reshape(X1.shape),\n",
        "             alpha = 0.75, cmap = ListedColormap(('red', 'green')))\n",
        "plt.xlim(X1.min(), X1.max())\n",
        "plt.ylim(X2.min(), X2.max())\n",
        "for i, j in enumerate(np.unique(y_set)):\n",
        "    plt.scatter(X_set[y_set == j, 0], X_set[y_set == j, 1], c = ListedColormap(('red', 'green'))(i), label = j)\n",
        "plt.title('Local Refrigeration (Training set)')\n",
        "plt.xlabel('Allocation Energetique (Kwh)')\n",
        "plt.ylabel('Criticité')\n",
        "plt.legend()\n",
        "plt.show()"
      ]
    },
    {
      "attachments": {},
      "cell_type": "markdown",
      "metadata": {
        "id": "SZ-j28aPihZx"
      },
      "source": [
        "### Visualising the Test set results."
      ]
    },
    {
      "cell_type": "code",
      "execution_count": 26,
      "metadata": {
        "colab": {
          "base_uri": "https://localhost:8080/",
          "height": 350
        },
        "id": "qeTjz2vDilAC",
        "outputId": "a67da45c-3f13-4624-93f8-2d6b9ffe7e30"
      },
      "outputs": [
        {
          "name": "stderr",
          "output_type": "stream",
          "text": [
            "*c* argument looks like a single numeric RGB or RGBA sequence, which should be avoided as value-mapping will have precedence in case its length matches with *x* & *y*.  Please use the *color* keyword-argument or provide a 2D array with a single row if you intend to specify the same RGB or RGBA value for all points.\n",
            "*c* argument looks like a single numeric RGB or RGBA sequence, which should be avoided as value-mapping will have precedence in case its length matches with *x* & *y*.  Please use the *color* keyword-argument or provide a 2D array with a single row if you intend to specify the same RGB or RGBA value for all points.\n"
          ]
        },
        {
          "data": {
            "image/png": "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",
            "text/plain": [
              "<Figure size 640x480 with 1 Axes>"
            ]
          },
          "metadata": {},
          "output_type": "display_data"
        }
      ],
      "source": [
        "from matplotlib.colors import ListedColormap\n",
        "X_set, y_set = sc.inverse_transform(X_test), y_test\n",
        "X1, X2 = np.meshgrid(np.arange(start = X_set[:, 0].min() - 10, stop = X_set[:, 0].max() + 10, step = 0.25),\n",
        "                     np.arange(start = X_set[:, 1].min() - 10, stop = X_set[:, 1].max() + 10, step = 0.25))\n",
        "plt.contourf(X1, X2, classifier.predict(sc.transform(np.array([X1.ravel(), X2.ravel()]).T)).reshape(X1.shape),\n",
        "             alpha = 0.75, cmap = ListedColormap(('red', 'green')))\n",
        "plt.xlim(X1.min(), X1.max())\n",
        "plt.ylim(X2.min(), X2.max())\n",
        "for i, j in enumerate(np.unique(y_set)):\n",
        "    plt.scatter(X_set[y_set == j, 0], X_set[y_set == j, 1], c = ListedColormap(('red', 'green'))(i), label = j)\n",
        "plt.title('Local Refrigeration (Test set)')\n",
        "plt.xlabel('Allocation Energetique (Kwh)')\n",
        "plt.ylabel('Criticité')\n",
        "plt.legend()\n",
        "plt.show()"
      ]
    }
  ],
  "metadata": {
    "colab": {
      "machine_shape": "hm",
      "provenance": []
    },
    "kernelspec": {
      "display_name": "Python 3",
      "name": "python3"
    },
    "language_info": {
      "codemirror_mode": {
        "name": "ipython",
        "version": 3
      },
      "file_extension": ".py",
      "mimetype": "text/x-python",
      "name": "python",
      "nbconvert_exporter": "python",
      "pygments_lexer": "ipython3",
      "version": "3.10.10"
    }
  },
  "nbformat": 4,
  "nbformat_minor": 0
}
